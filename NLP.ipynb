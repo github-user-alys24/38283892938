{
  "cells": [
    {
      "cell_type": "markdown",
      "metadata": {
        "id": "wyqtJvgUPjGK"
      },
      "source": [
        "#download libraries"
      ]
    },
    {
      "cell_type": "code",
      "execution_count": null,
      "metadata": {
        "id": "F_uzIJlGFCiZ"
      },
      "outputs": [],
      "source": [
        "# ..examine the characteristics of the dataset\n",
        "# ..develop code for text preprocessing techniques to process the dataset\n",
        "# ..incorporate text vectorization to retrieve resumes\n",
        "# ..trains and validates a BERT model to classify\n",
        "# ..optimize and enhance on the performance\n",
        "# ..summarize the retrieved resumes"
      ]
    },
    {
      "cell_type": "code",
      "execution_count": null,
      "metadata": {
        "id": "hcItvVFyFXB-"
      },
      "outputs": [],
      "source": [
        "# !pip install nltk\n",
        "# !pip install tensorflow\n",
        "# !pip install torch"
      ]
    },
    {
      "cell_type": "markdown",
      "metadata": {
        "id": "ZofBeNZEHSBP"
      },
      "source": [
        "#import libraries"
      ]
    },
    {
      "cell_type": "code",
      "execution_count": null,
      "metadata": {
        "id": "xv9DEAhBFZBn"
      },
      "outputs": [],
      "source": [
        "#import libraries\n",
        "import numpy as np\n",
        "import pandas as pd\n",
        "import matplotlib.pyplot as plt\n",
        "from google.colab import drive"
      ]
    },
    {
      "cell_type": "code",
      "source": [
        "drive.mount('/content/drive')"
      ],
      "metadata": {
        "colab": {
          "base_uri": "https://localhost:8080/"
        },
        "id": "zGLf5JUq_hx2",
        "outputId": "f1d001eb-aec7-4c77-e9da-c3de27c67fec"
      },
      "execution_count": null,
      "outputs": [
        {
          "output_type": "stream",
          "name": "stdout",
          "text": [
            "Drive already mounted at /content/drive; to attempt to forcibly remount, call drive.mount(\"/content/drive\", force_remount=True).\n"
          ]
        }
      ]
    },
    {
      "cell_type": "code",
      "execution_count": null,
      "metadata": {
        "id": "uuYTR9i1FeOa"
      },
      "outputs": [],
      "source": [
        "path=\"/content/drive/MyDrive/NLPDATA/UpdatedResumeDataSet_T3_2.csv\""
      ]
    },
    {
      "cell_type": "markdown",
      "metadata": {
        "id": "FDkhie7uHcGP"
      },
      "source": [
        "#characteristics of dataset"
      ]
    },
    {
      "cell_type": "code",
      "execution_count": null,
      "metadata": {
        "colab": {
          "base_uri": "https://localhost:8080/"
        },
        "id": "c3HbVIzmFrGg",
        "outputId": "8b1c83f5-48ec-410a-f658-7124c3d7fc4c"
      },
      "outputs": [
        {
          "output_type": "stream",
          "name": "stdout",
          "text": [
            "shape of dataset;\t(9595, 2) \ttotal resumes= 9595\n",
            "\n",
            "number of duplicates=\t9406\n",
            "unique resumes=\t189\n",
            "percentage of dataset is not duplicated; 1.9697759249609135\n",
            "\n",
            "columns of dataset;\tIndex(['Category', 'Resume'], dtype='object')\n",
            "\n",
            "number of categories=\t25\n",
            "\n",
            "categories found;\n",
            "['Data Science' 'HR' 'Advocate' 'Arts' 'Web Designing'\n",
            " 'Mechanical Engineer' 'Sales' 'Health and fitness' 'Civil Engineer'\n",
            " 'Java Developer' 'Business Analyst' 'SAP Developer' 'Automation Testing'\n",
            " 'Electrical Engineering' 'Operations Manager' 'Python Developer'\n",
            " 'DevOps Engineer' 'Network Security Engineer' 'PMO' 'Database' 'Hadoop'\n",
            " 'ETL Developer' 'DotNet Developer' 'Blockchain' 'Testing']\n"
          ]
        }
      ],
      "source": [
        "data=pd.read_csv(path)\n",
        "category=data[\"Category\"].unique()\n",
        "print(f\"shape of dataset;\\t{data.shape} \\ttotal resumes= {data.shape[0]}\\n\\nnumber of duplicates=\\t{data.duplicated().sum()}\\nunique resumes=\\t{data.shape[0]-data.duplicated().sum()}\\npercentage of dataset is not duplicated; {100-((data.duplicated().sum() / data.shape[0]) * 100)}\\n\\ncolumns of dataset;\\t{data.columns}\\n\\nnumber of categories=\\t{len(category)}\\n\\ncategories found;\\n{category}\")"
      ]
    },
    {
      "cell_type": "code",
      "execution_count": null,
      "metadata": {
        "colab": {
          "base_uri": "https://localhost:8080/",
          "height": 527
        },
        "id": "xujHeP_VHe0w",
        "outputId": "25f45da7-b83c-455b-9869-f7d369d8c4d6"
      },
      "outputs": [
        {
          "output_type": "display_data",
          "data": {
            "text/plain": [
              "<Figure size 1000x600 with 1 Axes>"
            ],
            "image/png": "[encoded data removed]"
          },
          "metadata": {}
        }
      ],
      "source": [
        "#percentage of dataset is duplicated\n",
        "plt.figure(figsize=(10, 6))\n",
        "f=[data.duplicated().sum(),data.shape[0]-data.duplicated().sum()]\n",
        "labels = ['duplicate', 'not duplicate']; values=f\n",
        "colors = ['#b81e11','#098541']\n",
        "plt.pie(x=values, labels=labels, colors=colors,autopct='%1.1f%%', startangle=90)\n",
        "plt.axis('equal')\n",
        "plt.title('distribution of duplicated resumes')\n",
        "plt.show()"
      ]
    },
    {
      "cell_type": "code",
      "execution_count": null,
      "metadata": {
        "colab": {
          "base_uri": "https://localhost:8080/",
          "height": 363
        },
        "id": "Uvho1LlqHh7P",
        "outputId": "81571d40-c79d-4b69-d7e2-ef6fddeee56d"
      },
      "outputs": [
        {
          "output_type": "execute_result",
          "data": {
            "text/plain": [
              "       Category                                             Resume\n",
              "0  Data Science  qwtnrvduof Skills * Programming Languages: Pyt...\n",
              "1  Data Science  qwtnrvduof Areas of Interest Deep Learning, Co...\n",
              "2  Data Science  Skills â¢ R â¢ Python â¢ SAP HANA â¢ Table...\n",
              "3  Data Science  Education Details \\r\\n MCA   YMCAUST,  Faridab...\n",
              "4  Data Science  SKILLS C Basics, IOT, Python, MATLAB, Data Sci...\n",
              "5  Data Science  Skills â¢ Python â¢ Tableau â¢ Data Visuali...\n",
              "6  Data Science  Education Details \\r\\n BbNTGBqLmkKTech   Rayat...\n",
              "7  Data Science  Personal Skills â¢ Ability to quickly grasp t...\n",
              "8  Data Science  Expertise â Data and Quantitative Analysis â...\n",
              "9  Data Science  Skills * Programming Languages: Python (pandas..."
            ],
            "text/html": [
              "\n",
              "  <div id=\"df-b38d49c8-43d7-48dc-9cdd-4040130eaab8\" class=\"colab-df-container\">\n",
              "    <div>\n",
              "<style scoped>\n",
              "    .dataframe tbody tr th:only-of-type {\n",
              "        vertical-align: middle;\n",
              "    }\n",
              "\n",
              "    .dataframe tbody tr th {\n",
              "        vertical-align: top;\n",
              "    }\n",
              "\n",
              "    .dataframe thead th {\n",
              "        text-align: right;\n",
              "    }\n",
              "</style>\n",
              "<table border=\"1\" class=\"dataframe\">\n",
              "  <thead>\n",
              "    <tr style=\"text-align: right;\">\n",
              "      <th></th>\n",
              "      <th>Category</th>\n",
              "      <th>Resume</th>\n",
              "    </tr>\n",
              "  </thead>\n",
              "  <tbody>\n",
              "    <tr>\n",
              "      <th>0</th>\n",
              "      <td>Data Science</td>\n",
              "      <td>qwtnrvduof Skills * Programming Languages: Pyt...</td>\n",
              "    </tr>\n",
              "    <tr>\n",
              "      <th>1</th>\n",
              "      <td>Data Science</td>\n",
              "      <td>qwtnrvduof Areas of Interest Deep Learning, Co...</td>\n",
              "    </tr>\n",
              "    <tr>\n",
              "      <th>2</th>\n",
              "      <td>Data Science</td>\n",
              "      <td>Skills â¢ R â¢ Python â¢ SAP HANA â¢ Table...</td>\n",
              "    </tr>\n",
              "    <tr>\n",
              "      <th>3</th>\n",
              "      <td>Data Science</td>\n",
              "      <td>Education Details \\r\\n MCA   YMCAUST,  Faridab...</td>\n",
              "    </tr>\n",
              "    <tr>\n",
              "      <th>4</th>\n",
              "      <td>Data Science</td>\n",
              "      <td>SKILLS C Basics, IOT, Python, MATLAB, Data Sci...</td>\n",
              "    </tr>\n",
              "    <tr>\n",
              "      <th>5</th>\n",
              "      <td>Data Science</td>\n",
              "      <td>Skills â¢ Python â¢ Tableau â¢ Data Visuali...</td>\n",
              "    </tr>\n",
              "    <tr>\n",
              "      <th>6</th>\n",
              "      <td>Data Science</td>\n",
              "      <td>Education Details \\r\\n BbNTGBqLmkKTech   Rayat...</td>\n",
              "    </tr>\n",
              "    <tr>\n",
              "      <th>7</th>\n",
              "      <td>Data Science</td>\n",
              "      <td>Personal Skills â¢ Ability to quickly grasp t...</td>\n",
              "    </tr>\n",
              "    <tr>\n",
              "      <th>8</th>\n",
              "      <td>Data Science</td>\n",
              "      <td>Expertise â Data and Quantitative Analysis â...</td>\n",
              "    </tr>\n",
              "    <tr>\n",
              "      <th>9</th>\n",
              "      <td>Data Science</td>\n",
              "      <td>Skills * Programming Languages: Python (pandas...</td>\n",
              "    </tr>\n",
              "  </tbody>\n",
              "</table>\n",
              "</div>\n",
              "    <div class=\"colab-df-buttons\">\n",
              "\n",
              "  <div class=\"colab-df-container\">\n",
              "    <button class=\"colab-df-convert\" onclick=\"convertToInteractive('df-b38d49c8-43d7-48dc-9cdd-4040130eaab8')\"\n",
              "            title=\"Convert this dataframe to an interactive table.\"\n",
              "            style=\"display:none;\">\n",
              "\n",
              "  <svg xmlns=\"http://www.w3.org/2000/svg\" height=\"24px\" viewBox=\"0 -960 960 960\">\n",
              "    <path d=\"M120-120v-720h720v720H120Zm60-500h600v-160H180v160Zm220 220h160v-160H400v160Zm0 220h160v-160H400v160ZM180-400h160v-160H180v160Zm440 0h160v-160H620v160ZM180-180h160v-160H180v160Zm440 0h160v-160H620v160Z\"/>\n",
              "  </svg>\n",
              "    </button>\n",
              "\n",
              "  <style>\n",
              "    .colab-df-container {\n",
              "      display:flex;\n",
              "      gap: 12px;\n",
              "    }\n",
              "\n",
              "    .colab-df-convert {\n",
              "      background-color: #E8F0FE;\n",
              "      border: none;\n",
              "      border-radius: 50%;\n",
              "      cursor: pointer;\n",
              "      display: none;\n",
              "      fill: #1967D2;\n",
              "      height: 32px;\n",
              "      padding: 0 0 0 0;\n",
              "      width: 32px;\n",
              "    }\n",
              "\n",
              "    .colab-df-convert:hover {\n",
              "      background-color: #E2EBFA;\n",
              "      box-shadow: 0px 1px 2px rgba(60, 64, 67, 0.3), 0px 1px 3px 1px rgba(60, 64, 67, 0.15);\n",
              "      fill: #174EA6;\n",
              "    }\n",
              "\n",
              "    .colab-df-buttons div {\n",
              "      margin-bottom: 4px;\n",
              "    }\n",
              "\n",
              "    [theme=dark] .colab-df-convert {\n",
              "      background-color: #3B4455;\n",
              "      fill: #D2E3FC;\n",
              "    }\n",
              "\n",
              "    [theme=dark] .colab-df-convert:hover {\n",
              "      background-color: #434B5C;\n",
              "      box-shadow: 0px 1px 3px 1px rgba(0, 0, 0, 0.15);\n",
              "      filter: drop-shadow(0px 1px 2px rgba(0, 0, 0, 0.3));\n",
              "      fill: #FFFFFF;\n",
              "    }\n",
              "  </style>\n",
              "\n",
              "    <script>\n",
              "      const buttonEl =\n",
              "        document.querySelector('#df-b38d49c8-43d7-48dc-9cdd-4040130eaab8 button.colab-df-convert');\n",
              "      buttonEl.style.display =\n",
              "        google.colab.kernel.accessAllowed ? 'block' : 'none';\n",
              "\n",
              "      async function convertToInteractive(key) {\n",
              "        const element = document.querySelector('#df-b38d49c8-43d7-48dc-9cdd-4040130eaab8');\n",
              "        const dataTable =\n",
              "          await google.colab.kernel.invokeFunction('convertToInteractive',\n",
              "                                                    [key], {});\n",
              "        if (!dataTable) return;\n",
              "\n",
              "        const docLinkHtml = 'Like what you see? Visit the ' +\n",
              "          '<a target=\"_blank\" href=https://colab.research.google.com/notebooks/data_table.ipynb>data table notebook</a>'\n",
              "          + ' to learn more about interactive tables.';\n",
              "        element.innerHTML = '';\n",
              "        dataTable['output_type'] = 'display_data';\n",
              "        await google.colab.output.renderOutput(dataTable, element);\n",
              "        const docLink = document.createElement('div');\n",
              "        docLink.innerHTML = docLinkHtml;\n",
              "        element.appendChild(docLink);\n",
              "      }\n",
              "    </script>\n",
              "  </div>\n",
              "\n",
              "\n",
              "<div id=\"df-651b0193-fcd9-4f44-86c9-8fe4f0634f3b\">\n",
              "  <button class=\"colab-df-quickchart\" onclick=\"quickchart('df-651b0193-fcd9-4f44-86c9-8fe4f0634f3b')\"\n",
              "            title=\"Suggest charts\"\n",
              "            style=\"display:none;\">\n",
              "\n",
              "<svg xmlns=\"http://www.w3.org/2000/svg\" height=\"24px\"viewBox=\"0 0 24 24\"\n",
              "     width=\"24px\">\n",
              "    <g>\n",
              "        <path d=\"M19 3H5c-1.1 0-2 .9-2 2v14c0 1.1.9 2 2 2h14c1.1 0 2-.9 2-2V5c0-1.1-.9-2-2-2zM9 17H7v-7h2v7zm4 0h-2V7h2v10zm4 0h-2v-4h2v4z\"/>\n",
              "    </g>\n",
              "</svg>\n",
              "  </button>\n",
              "\n",
              "<style>\n",
              "  .colab-df-quickchart {\n",
              "      --bg-color: #E8F0FE;\n",
              "      --fill-color: #1967D2;\n",
              "      --hover-bg-color: #E2EBFA;\n",
              "      --hover-fill-color: #174EA6;\n",
              "      --disabled-fill-color: #AAA;\n",
              "      --disabled-bg-color: #DDD;\n",
              "  }\n",
              "\n",
              "  [theme=dark] .colab-df-quickchart {\n",
              "      --bg-color: #3B4455;\n",
              "      --fill-color: #D2E3FC;\n",
              "      --hover-bg-color: #434B5C;\n",
              "      --hover-fill-color: #FFFFFF;\n",
              "      --disabled-bg-color: #3B4455;\n",
              "      --disabled-fill-color: #666;\n",
              "  }\n",
              "\n",
              "  .colab-df-quickchart {\n",
              "    background-color: var(--bg-color);\n",
              "    border: none;\n",
              "    border-radius: 50%;\n",
              "    cursor: pointer;\n",
              "    display: none;\n",
              "    fill: var(--fill-color);\n",
              "    height: 32px;\n",
              "    padding: 0;\n",
              "    width: 32px;\n",
              "  }\n",
              "\n",
              "  .colab-df-quickchart:hover {\n",
              "    background-color: var(--hover-bg-color);\n",
              "    box-shadow: 0 1px 2px rgba(60, 64, 67, 0.3), 0 1px 3px 1px rgba(60, 64, 67, 0.15);\n",
              "    fill: var(--button-hover-fill-color);\n",
              "  }\n",
              "\n",
              "  .colab-df-quickchart-complete:disabled,\n",
              "  .colab-df-quickchart-complete:disabled:hover {\n",
              "    background-color: var(--disabled-bg-color);\n",
              "    fill: var(--disabled-fill-color);\n",
              "    box-shadow: none;\n",
              "  }\n",
              "\n",
              "  .colab-df-spinner {\n",
              "    border: 2px solid var(--fill-color);\n",
              "    border-color: transparent;\n",
              "    border-bottom-color: var(--fill-color);\n",
              "    animation:\n",
              "      spin 1s steps(1) infinite;\n",
              "  }\n",
              "\n",
              "  @keyframes spin {\n",
              "    0% {\n",
              "      border-color: transparent;\n",
              "      border-bottom-color: var(--fill-color);\n",
              "      border-left-color: var(--fill-color);\n",
              "    }\n",
              "    20% {\n",
              "      border-color: transparent;\n",
              "      border-left-color: var(--fill-color);\n",
              "      border-top-color: var(--fill-color);\n",
              "    }\n",
              "    30% {\n",
              "      border-color: transparent;\n",
              "      border-left-color: var(--fill-color);\n",
              "      border-top-color: var(--fill-color);\n",
              "      border-right-color: var(--fill-color);\n",
              "    }\n",
              "    40% {\n",
              "      border-color: transparent;\n",
              "      border-right-color: var(--fill-color);\n",
              "      border-top-color: var(--fill-color);\n",
              "    }\n",
              "    60% {\n",
              "      border-color: transparent;\n",
              "      border-right-color: var(--fill-color);\n",
              "    }\n",
              "    80% {\n",
              "      border-color: transparent;\n",
              "      border-right-color: var(--fill-color);\n",
              "      border-bottom-color: var(--fill-color);\n",
              "    }\n",
              "    90% {\n",
              "      border-color: transparent;\n",
              "      border-bottom-color: var(--fill-color);\n",
              "    }\n",
              "  }\n",
              "</style>\n",
              "\n",
              "  <script>\n",
              "    async function quickchart(key) {\n",
              "      const quickchartButtonEl =\n",
              "        document.querySelector('#' + key + ' button');\n",
              "      quickchartButtonEl.disabled = true;  // To prevent multiple clicks.\n",
              "      quickchartButtonEl.classList.add('colab-df-spinner');\n",
              "      try {\n",
              "        const charts = await google.colab.kernel.invokeFunction(\n",
              "            'suggestCharts', [key], {});\n",
              "      } catch (error) {\n",
              "        console.error('Error during call to suggestCharts:', error);\n",
              "      }\n",
              "      quickchartButtonEl.classList.remove('colab-df-spinner');\n",
              "      quickchartButtonEl.classList.add('colab-df-quickchart-complete');\n",
              "    }\n",
              "    (() => {\n",
              "      let quickchartButtonEl =\n",
              "        document.querySelector('#df-651b0193-fcd9-4f44-86c9-8fe4f0634f3b button');\n",
              "      quickchartButtonEl.style.display =\n",
              "        google.colab.kernel.accessAllowed ? 'block' : 'none';\n",
              "    })();\n",
              "  </script>\n",
              "</div>\n",
              "\n",
              "    </div>\n",
              "  </div>\n"
            ],
            "application/vnd.google.colaboratory.intrinsic+json": {
              "type": "dataframe",
              "variable_name": "data",
              "summary": "{\n  \"name\": \"data\",\n  \"rows\": 9595,\n  \"fields\": [\n    {\n      \"column\": \"Category\",\n      \"properties\": {\n        \"dtype\": \"category\",\n        \"samples\": [\n          \"Civil Engineer\",\n          \"DevOps Engineer\",\n          \"Data Science\"\n        ],\n        \"num_unique_values\": 25,\n        \"semantic_type\": \"\",\n        \"description\": \"\"\n      }\n    },\n    {\n      \"column\": \"Resume\",\n      \"properties\": {\n        \"dtype\": \"category\",\n        \"samples\": [\n          \"COMPUTER SKILLS & SOFTWARE KNOWLEDGE MS-Power Point, MS - Office, C, Protius (PCB Design), Multisim, Micro wind, Matlab, Keil, Latex, Basic I nternet Fundamentals, Software and Hardware Knowledge PROJECT DETAILS Diploma Project: Speed Control of DC Motor Using Heart BeatsbNTGBqLmkK Mini Project: Water Gardening System Using Solar PanelckeKJOFvWQ Final Year BE Project: Iris Recognition systemqunsOBcUdTEducation Details \\r\\nJanuary 2016 BE EDUCATION Pune, Maharashtra PUNE University\\r\\nJanuary 2010 SSC   Maharashtra Board\\r\\nQuality Engineer \\r\\n\\r\\nQuality Engineer - Matrix Technologies\\r\\nSkill Details \\r\\nMATLAB- Exprience - 6 months\\r\\nPCB- Exprience - 6 months\\r\\nPCB DESIGN- Exprience - 6 monthsCompany Details \\r\\ncompany - Matrix Technologies\\r\\ndescription - \\r\\ncompany - RB Electronics\\r\\ndescription - \",\n          \"TechnicalProficiencies DB: Oracle 11g Domains: Investment Banking, Advertising, InsurancebNTGBqLmkK Programming Skills: SQL, PLSQL BI Tools: Informatica 9ckeKJOFvWQ1 OS: Windows, Unix Professional Development Trainings \\u00e2\\u0080\\u00a2 Concepts in Data Warehousing, Business Intelligence, ETLqunsOBcUdT \\u00e2\\u0080\\u00a2 BI Tools -Informatica 9X Education Details \\r\\n BCA  Nanded, Maharashtra Nanded University\\r\\nETL Developer \\r\\n\\r\\nETL Developer - Sun Trust Bank NY\\r\\nSkill Details \\r\\nETL- Exprience - 39 months\\r\\nEXTRACT, TRANSFORM, AND LOAD- Exprience - 39 months\\r\\nINFORMATICA- Exprience - 39 months\\r\\nORACLE- Exprience - 39 months\\r\\nUNIX- Exprience - 39 monthsCompany Details \\r\\ncompany - Sun Trust Bank NY\\r\\ndescription - Sun Trust Bank, NY JAN 2018 to present\\r\\nClient: Sun Trust Bank NY\\r\\nEnvironment: Informatica Power Center 9RYNOolXhuV1, Oracle 11g, unixSAJhwmUxoO\\r\\n\\r\\nRole: ETL Developer\\r\\n\\r\\nProject Profile:\\r\\nSun Trust Bank is a US based multinational financial services holding company, headquarters in NY that operates the Bank in New York and other financial services investmentsiQmADshIYN The company is organized as a stock corporation with four divisions: investment banking, private banking, Retail banking and a shared services group that provides\\r\\nFinancial services and support to the other divisionsisZoGErzLF\\r\\nThe objective of the first module was to create a DR system for the bank with a central point of communication and storage for Listed, Cash securities, Loans, Bonds, Notes, Equities, Rates, Commodities, and\\r\\nFX asset classesBRBEGnCeAe\\r\\nContribution / Highlights:\\r\\n\\r\\n\\u00e2\\u0080\\u00a2 Liaising closely with Project Manager, Business Analysts, Product Architects, and Requirements Modelers (CFOC) to define Technical requirements and create project documentationYDLarRfnns\\r\\n\\u00e2\\u0080\\u00a2 Development using Infa 9LzAHrUKSfh1, 11g/Oracle, UNIXKlgxNYMQvn\\r\\n\\u00e2\\u0080\\u00a2 Use Informatica PowerCenter for extraction, transformation and loading (ETL) of data in the DatabaseNXCvUvbtfs\\r\\n\\u00e2\\u0080\\u00a2 Created and configured Sessions in Informatica workflow Manager for loading data into Data base tables from various heterogeneous database sources like Flat Files, Oracle etcbWoLvAuiLy\\r\\n\\u00e2\\u0080\\u00a2 Unit testing and system integration testing of the developed mappingshnyYaPhDiN\\r\\n\\u00e2\\u0080\\u00a2 Providing production Support of the deployed codeNkcIWQTHKP\\r\\n\\u00e2\\u0080\\u00a2 Providing solutions to the business for the Production issuesxqNxAuivPS\\r\\n\\u00e2\\u0080\\u00a2 Had one to One interaction with the client throughout the project and in daily meetingsBmAvcUxckM\\r\\n\\r\\nProject #2\\r\\ncompany - Marshall Multimedia\\r\\ndescription - JUN 2016 to DEC 2017\\r\\n\\r\\nClient: Marshall Multimedia\\r\\nEnvironment: Informatica Power Center 9iWhceEFjCy1, Oracle 11g, unixCxYxcGWjPj\\r\\n\\r\\nRole: ETL Developer\\r\\n\\r\\nProject Profile:\\r\\nMarshall Multimedia is a US based multimedia advertisement services based organization which has\\r\\nhead courter in New YorkEQvLVADAGX EGC interface systems are advert management, Customer Management, Billing and\\r\\nProvisioning Systems for Consumer& Enterprise CustomersPpMbRHSvyr\\r\\nThe main aim of the project was to create an enterprise data warehouse which would suffice the need of reports belonging to the following categories: Financial reports, management reports and\\r\\nrejection reportsYiBbyqgdgn The professional reports were created by Cognos and ETL work was performed by\\r\\nInformaticaEOINHmydRG This project is to load the advert details and magazine details coming in Relational tables into data warehouse and calculate the compensation and incentive amount monthly twice as per business\\r\\nrulesrVhzhDLlax\\r\\n\\r\\nContribution / Highlights:\\r\\n\\u00e2\\u0080\\u00a2 Developed mappings using different sources by using Informatica transformationsZvElTfpBRu\\r\\n\\u00e2\\u0080\\u00a2 Created and configured Sessions in Informatica workflow Manager for loading data into Data Mart tables from various heterogeneous database sources like Flat Files, Oracle etcjTvXLggnCF\\r\\n\\r\\n2\\r\\n\\u00e2\\u0080\\u00a2 Unit testing and system integration testing of the developed mappingsStLhHExurt\\r\\n\\u00e2\\u0080\\u00a2 Providing solutions to the business for the Production issuesHbTaSQYScq\\r\\n\\r\\nProject #3\\r\\ncompany - Assurant healthcare/Insurance Miami USA\\r\\ndescription - Assurant, USA                                                                                                    NOV 2015 to MAY 2016\\r\\n\\r\\nProject: ACT BI - State Datamart\\r\\nClient: Assurant healthcare/Insurance Miami USA\\r\\nEnvironment: Informatica Power Center 9OUTUKFITfm1, Oracle 11g, unixiGgJTACsrU\\r\\n\\r\\nRole: ETL Developer\\r\\n\\r\\nProject Profile:\\r\\nAssurant, IncrmzlDPhkEV is a holding company with businesses that provide a diverse set of specialty, niche-market insurance\\r\\nproducts in the property, casualty, life and health insurance sectorsDsxAipmEds The company's four operating segments are Assurant\\r\\nEmployee Benefits, Assurant Health, Assurant Solutions and Assurant Specialty PropertyWKcIwwPhwH\\r\\nThe project aim at building State Datamart for enterprise solutionotMQFxwyst I am part of team which is responsible for ETL\\r\\nDesign & development along with testingIROakcEHjl\\r\\n\\r\\nContribution / Highlights:\\r\\n\\u00e2\\u0080\\u00a2   Performed small enhancement\\r\\n\\u00e2\\u0080\\u00a2   Daily load monitoring\\r\\n\\u00e2\\u0080\\u00a2   Attend to Informatica job failures by analyzing the root cause, resolving the failure using standard\\r\\ndocumented processbQHxpFbEaT\\r\\n\\u00e2\\u0080\\u00a2   Experience in writing SQL statementsBxEhGYcJjM\\r\\n\\u00e2\\u0080\\u00a2   Strong Problem Analysis & Resolution skills and ability to work in Multi Platform Environments\\r\\n\\u00e2\\u0080\\u00a2   Scheduled the Informatica jobs using Informatica scheduler\\r\\n\\u00e2\\u0080\\u00a2   Extensively used ETL methodology for developing and supporting data extraction, transformations and loading process, in a corporate-wide-ETL Solution using InformaticamKXDmyMLja\\r\\n\\u00e2\\u0080\\u00a2   Involved in creating the Unit cases and uploaded in to Quality Center for Unit Testing and UTR\\r\\n\\u00e2\\u0080\\u00a2   Ensure that daily support tasks are done in accordance with the defined SLAcxejhKboOs\",\n          \"KEY SKILLS: \\u00e2\\u0080\\u00a2 Computerized accounting with tally \\u00e2\\u0080\\u00a2 Sincere & hard working \\u00e2\\u0080\\u00a2 Management accounting & income tax \\u00e2\\u0080\\u00a2 Good communication & leadership \\u00e2\\u0080\\u00a2 Two and four wheeler driving license \\u00e2\\u0080\\u00a2 Internet & Ecommerce management COMPUTER SKILLS: \\u00e2\\u0080\\u00a2 C Language \\u00e2\\u0080\\u00a2 Web programing \\u00e2\\u0080\\u00a2 Tally \\u00e2\\u0080\\u00a2 Dbms Education Details \\r\\nJune 2017 to June 2019 Mba Finance/hr India Mlrit\\r\\nJune 2014 to June 2017 Bcom Computer Hyderabad, Telangana Osmania university\\r\\nJune 2012 to April 2014 Inter MEC India Srimedhav\\r\\nHr \\r\\n\\r\\nNani\\r\\nSkill Details \\r\\naccounting- Exprience - 6 months\\r\\nDATABASE MANAGEMENT SYSTEM- Exprience - 6 months\\r\\nDbms- Exprience - 6 months\\r\\nManagement accounting- Exprience - 6 months\\r\\nEcommerce- Exprience - 6 monthsCompany Details \\r\\ncompany - Valuelabs\\r\\ndescription - They will give the RRF form the required DLT then the hand over to RLT then scrum master will take the form from the RLT then scrum master will give the forms to trainee which we can work on the requirement till the candidate receive the offer from the company\"\n        ],\n        \"num_unique_values\": 189,\n        \"semantic_type\": \"\",\n        \"description\": \"\"\n      }\n    }\n  ]\n}"
            }
          },
          "metadata": {},
          "execution_count": 8
        }
      ],
      "source": [
        "#alot of duplicated means the resumes are likely to be very similar to one another & the same\n",
        "data.head(10)"
      ]
    },
    {
      "cell_type": "code",
      "execution_count": null,
      "metadata": {
        "colab": {
          "base_uri": "https://localhost:8080/"
        },
        "id": "MVHcbdxuHlgm",
        "outputId": "2d866996-9b52-43d1-a0f6-b6da837fe236"
      },
      "outputs": [
        {
          "output_type": "stream",
          "name": "stdout",
          "text": [
            "Job Title                 Number of Resumes\n",
            "-------------------------------------------\n",
            "Data Science                          = 399\n",
            "HR                                    = 439\n",
            "Advocate                              = 199\n",
            "Arts                                  = 359\n",
            "Web Designing                         = 449\n",
            "Mechanical Engineer                   = 399\n",
            "Sales                                 = 399\n",
            "Health and fitness                    = 299\n",
            "Civil Engineer                        = 239\n",
            "Java Developer                        = 839\n",
            "Business Analyst                      = 279\n",
            "SAP Developer                         = 239\n",
            "Automation Testing                    = 259\n",
            "Electrical Engineering                = 299\n",
            "Operations Manager                    = 399\n",
            "Python Developer                      = 479\n",
            "DevOps Engineer                       = 549\n",
            "Network Security Engineer             = 249\n",
            "PMO                                   = 299\n",
            "Database                              = 329\n",
            "Hadoop                                = 419\n",
            "ETL Developer                         = 399\n",
            "DotNet Developer                      = 279\n",
            "Blockchain                            = 399\n",
            "Testing                               = 699\n",
            "-------------------------------------------\n",
            "Total                                  9595\n"
          ]
        }
      ],
      "source": [
        "print(\"{:<26s}{}\\n{}\".format(\"Job Title\",\"Number of Resumes\",\"-\"*43))\n",
        "z=[]\n",
        "for i in range(25):\n",
        "    y=category[i]\n",
        "    x=len(data[data['Category']==y][\"Category\"])\n",
        "    print(\"{:<37s} = {:,.0f}\".format(y,x));z.append(x)\n",
        "print(\"{}\\n{:<39s}{}\".format(\"-\"*43,\"Total\",sum(z)))"
      ]
    },
    {
      "cell_type": "code",
      "execution_count": null,
      "metadata": {
        "colab": {
          "base_uri": "https://localhost:8080/",
          "height": 527
        },
        "id": "0EkzeP0IHoSh",
        "outputId": "4b3ac3c5-1e3c-443a-d29a-aebe73530dba"
      },
      "outputs": [
        {
          "output_type": "display_data",
          "data": {
            "text/plain": [
              "<Figure size 1000x600 with 1 Axes>"
            ],
            "image/png": "[encoded data removed]"
          },
          "metadata": {}
        }
      ],
      "source": [
        "#percentage distribution\n",
        "plt.figure(figsize=(10, 6))\n",
        "labels = category; values=z\n",
        "colors = ['#A7C7E7','#FDFD96',\"#C8A2C8\",\"#C1E1C1\",\"#F4C2C2\"]\n",
        "plt.pie(x=values, labels=labels, colors=colors,autopct='%1.1f%%', startangle=90)\n",
        "plt.axis('equal')\n",
        "plt.title('distribution of resumes')\n",
        "plt.show()"
      ]
    },
    {
      "cell_type": "code",
      "execution_count": null,
      "metadata": {
        "colab": {
          "base_uri": "https://localhost:8080/",
          "height": 605
        },
        "id": "j3P2opuHHqrz",
        "outputId": "00593cfa-25bf-4d0b-a3c4-e38a9c6c4b76"
      },
      "outputs": [
        {
          "output_type": "execute_result",
          "data": {
            "text/plain": [
              "<Axes: xlabel='count', ylabel='Category'>"
            ]
          },
          "metadata": {},
          "execution_count": 11
        },
        {
          "output_type": "display_data",
          "data": {
            "text/plain": [
              "<Figure size 2000x1500 with 1 Axes>"
            ],
            "image/png": "[encoded data removed]"
          },
          "metadata": {}
        }
      ],
      "source": [
        "#distribution\n",
        "import seaborn as sns\n",
        "plt.figure(figsize=(20,15));sns.countplot(y=\"Category\",data=data)"
      ]
    },
    {
      "cell_type": "code",
      "execution_count": null,
      "metadata": {
        "colab": {
          "base_uri": "https://localhost:8080/"
        },
        "id": "qy_Q1xkbHsNI",
        "outputId": "c8b4a94c-430f-4c49-f017-9ebfaf09c255"
      },
      "outputs": [
        {
          "output_type": "stream",
          "name": "stdout",
          "text": [
            "first three resumes to visualize data\n",
            "--------------------------------------------------------------------------------\n",
            "qwtnrvduof Skills * Programming Languages: Python (pandas, numpy, scipy, scikit-learn, matplotlib), vliwCrVTuFNfrHJMqDYjIudSSzMrlVhTpmnfKrPA\n",
            "--------------------------------------------------------------------------------\n",
            "qwtnrvduof Areas of Interest Deep Learning, Control System Design, Programming in-Python, Electric Machinery, Web Development, Analytics Technical Activities q Hindustan Aeronautics Limited, Bangalore - For 4 weeks under the guidance of MrbNTGBqLmkK Satish, Senior Engineer in the hangar of Mirage 2000 fighter aircraft Technical Skills Programming Matlab, Python and Java, LabView, Python WebFrameWork-Django, Flask, LTSPICE-intermediate Languages and and MIPOWER-intermediate, Github (GitBash), Jupyter Notebook, Xampp, MySQL-Basics, Python Software Packages Interpreters-Anaconda, Python2, Python3, Pycharm, Java IDE-Eclipse Operating Systems Windows, Ubuntu, Debian-Kali Linux Education Details \n",
            "January 2019 BckeKJOFvWQTechqunsOBcUdT Electrical and Electronics Engineering  Manipal Institute of Technology\n",
            "January 2015    DEEKSHA CENTER\n",
            "January 2013    Little Flower Public School\n",
            "August 2000    Manipal Academy of Higher\n",
            "DATA SCIENCE \n",
            "\n",
            "DATA SCIENCE AND ELECTRICAL ENTHUSIAST\n",
            "Skill Details \n",
            "Data Analysis- Exprience - Less than 1 year months\n",
            "excel- Exprience - Less than 1 year months\n",
            "Machine Learning- Exprience - Less than 1 year months\n",
            "mathematics- Exprience - Less than 1 year months\n",
            "Python- Exprience - Less than 1 year months\n",
            "Matlab- Exprience - Less than 1 year months\n",
            "Electrical Engineering- Exprience - Less than 1 year months\n",
            "Sql- Exprience - Less than 1 year monthsCompany Details \n",
            "company - THEMATHCOMPANY\n",
            "description - I am currently working with a Casino based operator(name not to be disclosed) in MacauRYNOolXhuVI need to segment the customers who visit their property based on the value the patrons bring into the companySAJhwmUxoOBasically prove that the segmentation can be done in much better way than the current system which they have with proper numbers to back it upiQmADshIYNHenceforth they can implement target marketing strategy to attract their customers who add value to the businessisZoGErzLF\n",
            "--------------------------------------------------------------------------------\n",
            "Skills â¢ R â¢ Python â¢ SAP HANA â¢ Tableau â¢ SAP HANA SQL â¢ SAP HANA PAL â¢ MS SQL â¢ SAP Lumira â¢ C# â¢ Linear Programming â¢ Data Modelling â¢ Advance Analytics â¢ SCM Analytics â¢ Retail Analytics â¢Social Media Analytics â¢ NLP Education Details \r\n",
            "January 2017 to January 2018 PGDM Business Analytics  Great Lakes Institute of Management & Illinois Institute of Technology\r\n",
            "January 2013 Bachelor of Engineering Electronics and Communication Bengaluru, Karnataka New Horizon College of Engineering, Bangalore Visvesvaraya Technological University\r\n",
            "Data Science Consultant \r\n",
            "\r\n",
            "Consultant - Deloitte USI\r\n",
            "Skill Details \r\n",
            "LINEAR PROGRAMMING- Exprience - 6 months\r\n",
            "RETAIL- Exprience - 6 months\r\n",
            "RETAIL MARKETING- Exprience - 6 months\r\n",
            "SCM- Exprience - 6 months\r\n",
            "SQL- Exprience - Less than 1 year months\r\n",
            "Deep Learning- Exprience - Less than 1 year months\r\n",
            "Machine learning- Exprience - Less than 1 year months\r\n",
            "Python- Exprience - Less than 1 year months\r\n",
            "R- Exprience - Less than 1 year monthsCompany Details \r\n",
            "company - Deloitte USI\r\n",
            "description - The project involved analysing historic deals and coming with insights to optimize future dealsbNTGBqLmkK\r\n",
            "Role: Was given raw data, carried out end to end analysis and presented insights to clientckeKJOFvWQ\r\n",
            "Key Responsibilities:\r\n",
            "â¢ Extract data from client systems across geographiesqunsOBcUdT\r\n",
            "â¢ Understand and build reports in tableauRYNOolXhuV Infer meaningful insights to optimize prices and find out process blockadesSAJhwmUxoO\r\n",
            "Technical Environment: R, TableauiQmADshIYN\r\n",
            "\r\n",
            "Industry: Cross Industry\r\n",
            "Service Area: Cross Industry - Products\r\n",
            "Project Name: Handwriting recognition\r\n",
            "Consultant: 3 monthsisZoGErzLF\r\n",
            "The project involved taking handwritten images and converting them to digital text images by object detection and sentence creationBRBEGnCeAe\r\n",
            "Role: I was developing sentence correction functionalityYDLarRfnns\r\n",
            "Key Responsibilities:\r\n",
            "â¢ Gather data large enough to capture all English words\r\n",
            "â¢ Train LSTM models on wordsLzAHrUKSfh\r\n",
            "Technical Environment: PythonKlgxNYMQvn\r\n",
            "\r\n",
            "Industry: Finance\r\n",
            "Service Area: Financial Services - BI development Project Name: SWIFT\r\n",
            "Consultant: 8 monthsNXCvUvbtfs\r\n",
            "The project was to develop an analytics infrastructure on top of SAP S/4, it would user to view\r\n",
            "financial reports to respective departmentsbWoLvAuiLy Reporting also included forecasting expenseshnyYaPhDiN\r\n",
            "Role: I was leading the offshore teamNkcIWQTHKP\r\n",
            "Key Responsibilities:\r\n",
            "â¢ Design & Develop data models for reportingxqNxAuivPS\r\n",
            "â¢ Develop ETL for data flow\r\n",
            "â¢ Validate various reportsBmAvcUxckM\r\n",
            "Technical Environment: SAP HANA, Tableau, SAP AOiWhceEFjCy\r\n",
            "\r\n",
            "Industry: Healthcare Analytics\r\n",
            "Service Area: Life Sciences - Product development Project Name: Clinical Healthcare System\r\n",
            "Consultant: 2 monthsCxYxcGWjPj\r\n",
            "The project was to develop an analytics infrastructure on top of Argus, it would allow users to query faster and provide advance analytics capabilitiesEQvLVADAGX\r\n",
            "Role: I was involved from design to deploy phase, performed a lot of data restructuring and built\r\n",
            "models for insightsPpMbRHSvyr\r\n",
            "Key Responsibilities:\r\n",
            "â¢ Design & Develop data models for reportingYiBbyqgdgn\r\n",
            "â¢ Develop and deploy analytical modelsEOINHmydRG\r\n",
            "â¢ Validate various reportsrVhzhDLlax\r\n",
            "Technical Environment: Data Modelling, SAP HANA, Tableau, NLPZvElTfpBRu\r\n",
            "\r\n",
            "Industry: FMCG\r\n",
            "Service Area: Trade & Promotion\r\n",
            "Project Name: Consumption Based Planning for Flowers Foods Consultant; 8 monthsjTvXLggnCF\r\n",
            "The project involved setting up of CRM and CBP modulesStLhHExurt\r\n",
            "Role: I was involved in key data decomposition activities and setting up the base for future year\r\n",
            "forecastHbTaSQYScq Over the course of the project I developed various models and carried out key\r\n",
            "performance improvementsOUTUKFITfm\r\n",
            "Key Responsibilities:\r\n",
            "â¢ Design & Develop HANA models for decompositioniGgJTACsrU\r\n",
            "â¢ Develop data flow for forecastrmzlDPhkEV\r\n",
            "â¢ Developed various views for reporting of Customer/Sales/FundsDsxAipmEds\r\n",
            "â¢ Validate various reports in BOBJWKcIwwPhwH\r\n",
            "Technical Environment: Data Modelling, SAP HANA, BOBJ, Time Series ForecastingotMQFxwyst\r\n",
            "\r\n",
            "Internal Initiative Industry: FMCG\r\n",
            "Customer Segmentation and RFM analysis Consultant; 3 monthsIROakcEHjl\r\n",
            "The initiative involved setting up of HANA-Python interface and advance analytics on PythonbQHxpFbEaT Over the course I had successfully segmented data into five core segments using K-means and carried out RFM analysis in PythonBxEhGYcJjM Also developed algorithm to categorize any new customer under the defined bucketsmKXDmyMLja\r\n",
            "Technical Environment: Anaconda3, Python3cxejhKboOs6, HANA SPS12\r\n",
            "\r\n",
            "Industry: Telecom Invoice state detection Consultant; 1 monthsgBsjSVzaoY\r\n",
            "The initiative was to reduce the manual effort in verifying closed and open invoices manually, it\r\n",
            "involved development to a decision tree to classify open/closed invoiceskroERafXTe This enabled effort\r\n",
            "reduction by 60%ZJjelAHEZJ\r\n",
            "Technical Environment: R, SAP PAL, SAP HANA SPS12\r\n",
            "\r\n",
            "Accenture Experience\r\n",
            "Industry: Analytics - Cross Industry\r\n",
            "In Process Analytics for SAP Senior Developer; 19 monthskgtKmAzmpP\r\n",
            "Accenture Solutions PvtLIoNZDWbPZ LtdjrfHltmHxg, India\r\n",
            "The project involved development of SAP analytics tool - In Process Analytics (IPA) IBjCZVxHOV My role was to develop database objects and data models to provide operational insights to clientsIThhFEXGCT\r\n",
            "Role: I have developed various Finance related KPIs and spearheaded various deploymentsgJQIfscUGm\r\n",
            "Introduced SAP Predictive analytics to reduce development time and reuse functionalities for KPIs and prepared production planning reportsMdrvCgNcBz\r\n",
            "Key Responsibilities:\r\n",
            "â¢ Involved in information gather phaseJPZcohOTys\r\n",
            "â¢ Designed and implemented SAP HANA data modelling using Attribute View, Analytic View, and\r\n",
            "Calculation ViewkrkHqPjOTp\r\n",
            "â¢ Developed various KPI's individually using complex SQL scripts in Calculation viewsGQLjPDjVaU\r\n",
            "â¢ Created procedures in HANA DatabaseiRljuuAGJM\r\n",
            "â¢ Took ownership and developed Dashboard functionality.\r\n",
            "â¢ Involved in building data processing algorithms to be executed in R server for cluster analysis.\r\n",
            "Technical Environment: R, SAP HANA, T-SQL.\r\n",
            "Industry: Cross Industry\r\n",
            "Accenture Testing Accelerator for SAP Database Developer; 21 months.\r\n",
            "Accenture Solutions Pvt. Ltd., India\r\n",
            "Role: I have taken care of all development activities for the ATAS tool and have also completed\r\n",
            "various deployments of the product.\r\n",
            "Apart from these activities I was also actively involved in maintenance of the database servers\r\n",
            "(Production & Quality)\r\n",
            "Key Responsibilities:\r\n",
            "â¢ Analyzing business requirements, understanding the scope, getting requirements clarified\r\n",
            "interacting with business and further transform all requirements to generate attribute\r\n",
            "mapping documents and reviewing mapping specification documentation\r\n",
            "â¢ Create / Update database objects like tables, views, stored procedures, function, and packages\r\n",
            "â¢ Monitored SQL Server Error Logs and Application Logs through SQL Server Agent\r\n",
            "â¢ Prepared Data Flow Diagrams, Entity Relationship Diagrams using UML\r\n",
            "â¢ Responsible for Designing, developing and Normalization of database tables\r\n",
            "â¢ Experience in performance tuning using SQL profiler.\r\n",
            "â¢ Involved in QA, UAT, knowledge transfer and support activities\r\n",
            "Technical Environment: SQL Server 2008/2014, Visual Studio 2010, Windows Server, Performance\r\n",
            "Monitor, SQL Server Profiler, C#, PL-SQL, T-SQL.\n",
            "--------------------------------------------------------------------------------\n"
          ]
        }
      ],
      "source": [
        "#java dev is the most, and advocate is the least\n",
        "def head3(data):\n",
        "    print(\"first three resumes to visualize data\\n{}\".format(\"-\"*80))\n",
        "    for i in range(3):\n",
        "        x=data[\"Resume\"][i]\n",
        "        print(\"{}\\n{}\".format(x,\"-\"*80))\n",
        "head3(data)"
      ]
    },
    {
      "cell_type": "code",
      "execution_count": null,
      "metadata": {
        "colab": {
          "base_uri": "https://localhost:8080/"
        },
        "id": "xXBfLQRAH1GC",
        "outputId": "fca3b7f5-8f0a-42eb-c900-7b39ca655ab1"
      },
      "outputs": [
        {
          "output_type": "stream",
          "name": "stdout",
          "text": [
            "no of unique resumes = 189\n",
            "\n",
            "Job Title                 Number of Resumes\n",
            "-------------------------------------------\n",
            "Data Science                          = 12\n",
            "HR                                    = 13\n",
            "Advocate                              = 11\n",
            "Arts                                  = 6\n",
            "Web Designing                         = 4\n",
            "Mechanical Engineer                   = 6\n",
            "Sales                                 = 6\n",
            "Health and fitness                    = 6\n",
            "Civil Engineer                        = 7\n",
            "Java Developer                        = 14\n",
            "Business Analyst                      = 8\n",
            "SAP Developer                         = 7\n",
            "Automation Testing                    = 8\n",
            "Electrical Engineering                = 6\n",
            "Operations Manager                    = 5\n",
            "Python Developer                      = 7\n",
            "DevOps Engineer                       = 8\n",
            "Network Security Engineer             = 6\n",
            "PMO                                   = 3\n",
            "Database                              = 12\n",
            "Hadoop                                = 8\n",
            "ETL Developer                         = 6\n",
            "DotNet Developer                      = 7\n",
            "Blockchain                            = 5\n",
            "Testing                               = 8\n",
            "-------------------------------------------\n",
            "Total                                  189\n"
          ]
        }
      ],
      "source": [
        "unique_resume=data.drop_duplicates(subset='Resume').reset_index(drop=True)\n",
        "print(f\"no of unique resumes = {len(unique_resume)}\\n\")\n",
        "data=data.drop_duplicates(subset='Resume').reset_index(drop=True)\n",
        "print(\"{:<26s}{}\\n{}\".format(\"Job Title\",\"Number of Resumes\",\"-\"*43))\n",
        "z=[]\n",
        "for i in range(25):\n",
        "    y=category[i]\n",
        "    x=len(data[data['Category']==y][\"Category\"])\n",
        "    print(\"{:<37s} = {:,.0f}\".format(y,x));z.append(x)\n",
        "print(\"{}\\n{:<39s}{}\".format(\"-\"*43,\"Total\",sum(z)))"
      ]
    },
    {
      "cell_type": "code",
      "execution_count": null,
      "metadata": {
        "colab": {
          "base_uri": "https://localhost:8080/",
          "height": 622
        },
        "id": "UYoBED4JH3qO",
        "outputId": "c1af0a4c-33ae-461c-d51f-e35270c4975d"
      },
      "outputs": [
        {
          "output_type": "stream",
          "name": "stdout",
          "text": [
            "distribution after dropping duplicates\n"
          ]
        },
        {
          "output_type": "execute_result",
          "data": {
            "text/plain": [
              "<Axes: xlabel='count', ylabel='Category'>"
            ]
          },
          "metadata": {},
          "execution_count": 14
        },
        {
          "output_type": "display_data",
          "data": {
            "text/plain": [
              "<Figure size 2000x1500 with 1 Axes>"
            ],
            "image/png": "[encoded data removed]"
          },
          "metadata": {}
        }
      ],
      "source": [
        "#distribution\n",
        "import seaborn as sns\n",
        "print(\"distribution after dropping duplicates\")\n",
        "plt.figure(figsize=(20,15));sns.countplot(y=\"Category\",data=data)"
      ]
    },
    {
      "cell_type": "markdown",
      "metadata": {
        "id": "xrToMffcH-iV"
      },
      "source": [
        "#text preprocessing"
      ]
    },
    {
      "cell_type": "code",
      "execution_count": null,
      "metadata": {
        "id": "PbRoqNAbIBRu"
      },
      "outputs": [],
      "source": [
        "#preprocessing includes removing the punctuation, stop words, special characters\n",
        "# -> changing to lowercase, lemmatizing, pos tagging, chunking, ner"
      ]
    },
    {
      "cell_type": "code",
      "execution_count": null,
      "metadata": {
        "id": "cmAU6FIoIC_m"
      },
      "outputs": [],
      "source": [
        "#import libraries\n",
        "import nltk\n",
        "from nltk.tokenize import word_tokenize\n",
        "from nltk.tag import pos_tag"
      ]
    },
    {
      "cell_type": "code",
      "execution_count": null,
      "metadata": {
        "id": "pa_Z4-M4IFKH"
      },
      "outputs": [],
      "source": [
        "#set all to lower\n",
        "# data['Resume'] = data['Resume'].str.lower()\n",
        "#text preprocessing, to remove punctuations and special characters\n",
        "import re\n",
        "def clean(doc):\n",
        "    #remove specific strings of text\n",
        "    doc = re.sub(r\"qwtnrvduof\",\"\", doc)\n",
        "    #remove hyperlinks\n",
        "    doc=re.sub(\"http\\S+\\s*\",\" \",doc)\n",
        "    doc=re.sub(\"RT|cc\",\"\",doc)\n",
        "    doc=re.sub(\"#\\S+\",\"\",doc)\n",
        "    doc=re.sub(\"@\\S+\",\"\",doc)\n",
        "    #remove special characters\n",
        "    doc=re.sub(\"[%s]\" % re.escape(\"\"\"'!\"\"#$%^&*()+_-[\\]:;{}~`<=>/?.,|\"\"\"),\" \",doc) #remove punctuations and others\n",
        "    doc = re.sub(r'\\b(?![CRr])[a-zA-Z]\\b', '', doc) #remove standalone alphabets, except C and R because it is a programming language\n",
        "    doc = re.sub(r'\\bzz\\b', '', doc)\n",
        "    #remove whitespaces and tabs\n",
        "    doc=re.sub(\"\\s+\",\" \",doc);doc=re.sub(r\"[^\\x00-\\x7f]\",r\" \",doc)\n",
        "    doc=re.sub('\\r', ' ', doc)\n",
        "    doc=re.sub('\\n', ' ', doc)\n",
        "    doc=re.sub(r'^\\s*|\\s\\s*',' ',doc).strip()\n",
        "    return doc\n",
        "data[\"cleaned text\"]=data.Resume.apply(lambda x:clean(x))"
      ]
    },
    {
      "cell_type": "code",
      "execution_count": null,
      "metadata": {
        "colab": {
          "base_uri": "https://localhost:8080/"
        },
        "id": "auc4nZ4FIF8S",
        "outputId": "9ff825b6-1b36-4d1b-938c-53eaa3138d45"
      },
      "outputs": [
        {
          "output_type": "stream",
          "name": "stdout",
          "text": [
            "first three resumes to visualize data\n",
            "--------------------------------------------------------------------------------\n",
            "Skills Programming Languages Python pandas numpy scipy scikit learn matplotlib vliwCrVTuFNfrHJMqDYjIudSSzMrlVhTpmnfKrPA\n",
            "--------------------------------------------------------------------------------\n",
            "Areas of Interest Deep Learning Control System Design Programming in Python Electric Machinery Web Development Analytics Technical Activities Hindustan Aeronautics Limited Bangalore For 4 weeks under the guidance of MrbNTGBqLmkK Satish Senior Engineer in the hangar of Mirage 2000 fighter aircraft Technical Skills Programming Matlab Python and Java LabView Python WebFrameWork Django Flask LTSPICE intermediate Languages and and MIPOWER intermediate Github GitBash Jupyter Notebook Xampp MySQL Basics Python Software Packages Interpreters Anaconda Python2 Python3 Pycharm Java IDE Eclipse Operating Systems Windows Ubuntu Debian Kali Linux Education Details January 2019 BckeKJOFvWQTechqunsOBcUdT Electrical and Electronics Engineering Manipal Institute of Technology January 2015 DEEKSHA CENTER January 2013 Little Flower Public School August 2000 Manipal Academy of Higher DATA SCIENCE DATA SCIENCE AND ELECTRICAL ENTHUSIAST Skill Details Data Analysis Exprience Less than 1 year months excel Exprience Less than 1 year months Machine Learning Exprience Less than 1 year months mathematics Exprience Less than 1 year months Python Exprience Less than 1 year months Matlab Exprience Less than 1 year months Electrical Engineering Exprience Less than 1 year months Sql Exprience Less than 1 year monthsCompany Details company THEMATHCOMPANY description am currently working with Casino based operator name not to be disclosed in MacauRYNOolXhuVI need to segment the customers who visit their property based on the value the patrons bring into the companySAJhwmUxoOBasically prove that the segmentation can be done in much better way than the current system which they have with proper numbers to back it upiQmADshIYNHenceforth they can implement target marketing strategy to attract their customers who add value to the businessisZoGErzLF\n",
            "--------------------------------------------------------------------------------\n",
            "Skills R Python SAP HANA Tableau SAP HANA SQL SAP HANA PAL MS SQL SAP Lumira C Linear Programming Data Modelling Advance Analytics SCM Analytics Retail Analytics Social Media Analytics NLP Education Details January 2017 to January 2018 PGDM Business Analytics Great Lakes Institute of Management Illinois Institute of Technology January 2013 Bachelor of Engineering Electronics and Communication Bengaluru Karnataka New Horizon College of Engineering Bangalore Visvesvaraya Technological University Data Science Consultant Consultant Deloitte USI Skill Details LINEAR PROGRAMMING Exprience 6 months RETAIL Exprience 6 months RETAIL MARKETING Exprience 6 months SCM Exprience 6 months SQL Exprience Less than 1 year months Deep Learning Exprience Less than 1 year months Machine learning Exprience Less than 1 year months Python Exprience Less than 1 year months R Exprience Less than 1 year monthsCompany Details company Deloitte USI description The project involved analysing historic deals and coming with insights to optimize future dealsbNTGBqLmkK Role Was given raw data carried out end to end analysis and presented insights to clientckeKJOFvWQ Key Responsibilities Extract data from client systems across geographiesqunsOBcUdT Understand and build reports in tableauRYNOolXhuV Infer meaningful insights to optimize prices and find out process blockadesSAJhwmUxoO Technical Environment R TableauiQmADshIYN Industry Cross Industry Service Area Cross Industry Products Project Name Handwriting recognition Consultant 3 monthsisZoGErzLF The project involved taking handwritten images and converting them to digital text images by object detection and sentence creationBRBEGnCeAe Role was developing sentence correction functionalityYDLarRfnns Key Responsibilities Gather data large enough to capture all English words Train LSTM models on wordsLzAHrUKSfh Technical Environment PythonKlgxNYMQvn Industry Finance Service Area Financial Services BI development Project Name SWIFT Consultant 8 monthsNXCvUvbtfs The project was to develop an analytics infrastructure on top of SAP 4 it would user to view financial reports to respective departmentsbWoLvAuiLy Reporting also included forecasting expenseshnyYaPhDiN Role was leading the offshore teamNkcIWQTHKP Key Responsibilities Design Develop data models for reportingxqNxAuivPS Develop ETL for data flow Validate various reportsBmAvcUxckM Technical Environment SAP HANA Tableau SAP AOiWhceEFjCy Industry Healthcare Analytics Service Area Life Sciences Product development Project Name Clinical Healthcare System Consultant 2 monthsCxYxcGWjPj The project was to develop an analytics infrastructure on top of Argus it would allow users to query faster and provide advance analytics capabilitiesEQvLVADAGX Role was involved from design to deploy phase performed lot of data restructuring and built models for insightsPpMbRHSvyr Key Responsibilities Design Develop data models for reportingYiBbyqgdgn Develop and deploy analytical modelsEOINHmydRG Validate various reportsrVhzhDLlax Technical Environment Data Modelling SAP HANA Tableau NLPZvElTfpBRu Industry FMCG Service Area Trade Promotion Project Name Consumption Based Planning for Flowers Foods Consultant 8 monthsjTvXLggnCF The project involved setting up of CRM and CBP modulesStLhHExurt Role was involved in key data decomposition activities and setting up the base for future year forecastHbTaSQYScq Over the course of the project developed various models and carried out key performance improvementsOUTUKFITfm Key Responsibilities Design Develop HANA models for decompositioniGgJTACsrU Develop data flow for forecastrmzlDPhkEV Developed various views for reporting of Customer Sales FundsDsxAipmEds Validate various reports in BOBJWKcIwwPhwH Technical Environment Data Modelling SAP HANA BOBJ Time Series ForecastingotMQFxwyst Internal Initiative Industry FMCG Customer Segmentation and RFM analysis Consultant 3 monthsIROakcEHjl The initiative involved setting up of HANA Python interface and advance analytics on PythonbQHxpFbEaT Over the course had suessfully segmented data into five core segments using means and carried out RFM analysis in PythonBxEhGYcJjM Also developed algorithm to categorize any new customer under the defined bucketsmKXDmyMLja Technical Environment Anaconda3 Python3cxejhKboOs6 HANA SPS12 Industry Telecom Invoice state detection Consultant 1 monthsgBsjSVzaoY The initiative was to reduce the manual effort in verifying closed and open invoices manually it involved development to decision tree to classify open closed invoiceskroERafXTe This enabled effort reduction by 60 ZJjelAHEZJ Technical Environment R SAP PAL SAP HANA SPS12 Aenture Experience Industry Analytics Cross Industry In Process Analytics for SAP Senior Developer 19 monthskgtKmAzmpP Aenture Solutions PvtLIoNZDWbPZ LtdjrfHltmHxg India The project involved development of SAP analytics tool In Process Analytics IPA IBjCZVxHOV My role was to develop database objects and data models to provide operational insights to clientsIThhFEXGCT Role have developed various Finance related KPIs and spearheaded various deploymentsgJQIfscUGm Introduced SAP Predictive analytics to reduce development time and reuse functionalities for KPIs and prepared production planning reportsMdrvCgNcBz Key Responsibilities Involved in information gather phaseJPZcohOTys Designed and implemented SAP HANA data modelling using Attribute View Analytic View and Calculation ViewkrkHqPjOTp Developed various KPI individually using complex SQL scripts in Calculation viewsGQLjPDjVaU Created procedures in HANA DatabaseiRljuuAGJM Took ownership and developed Dashboard functionality Involved in building data processing algorithms to be executed in R server for cluster analysis Technical Environment R SAP HANA SQL Industry Cross Industry Aenture Testing Aelerator for SAP Database Developer 21 months Aenture Solutions Pvt Ltd India Role have taken care of all development activities for the ATAS tool and have also completed various deployments of the product Apart from these activities was also actively involved in maintenance of the database servers Production Quality Key Responsibilities Analyzing business requirements understanding the scope getting requirements clarified interacting with business and further transform all requirements to generate attribute mapping documents and reviewing mapping specification documentation Create Update database objects like tables views stored procedures function and packages Monitored SQL Server Error Logs and Application Logs through SQL Server Agent Prepared Data Flow Diagrams Entity Relationship Diagrams using UML Responsible for Designing developing and Normalization of database tables Experience in performance tuning using SQL profiler Involved in QA UAT knowledge transfer and support activities Technical Environment SQL Server 2008 2014 Visual Studio 2010 Windows Server Performance Monitor SQL Server Profiler C PL SQL SQL\n",
            "--------------------------------------------------------------------------------\n"
          ]
        }
      ],
      "source": [
        "cleaned_data=data[\"cleaned text\"]\n",
        "print(\"first three resumes to visualize data\\n{}\".format(\"-\"*80))\n",
        "for i in range(3):\n",
        "    x=cleaned_data[i]\n",
        "    print(\"{}\\n{}\".format(x,\"-\"*80))"
      ]
    },
    {
      "cell_type": "code",
      "execution_count": null,
      "metadata": {
        "colab": {
          "base_uri": "https://localhost:8080/"
        },
        "id": "FhZUcS22ITG3",
        "outputId": "72860a4b-fa45-47f3-eec4-269d58de892c"
      },
      "outputs": [
        {
          "output_type": "stream",
          "name": "stderr",
          "text": [
            "[nltk_data] Downloading package stopwords to /root/nltk_data...\n",
            "[nltk_data]   Package stopwords is already up-to-date!\n",
            "[nltk_data] Downloading package punkt to /root/nltk_data...\n",
            "[nltk_data]   Package punkt is already up-to-date!\n"
          ]
        },
        {
          "output_type": "execute_result",
          "data": {
            "text/plain": [
              "True"
            ]
          },
          "metadata": {},
          "execution_count": 19
        }
      ],
      "source": [
        "import nltk\n",
        "nltk.download('stopwords');nltk.download('punkt')"
      ]
    },
    {
      "cell_type": "code",
      "execution_count": null,
      "metadata": {
        "colab": {
          "base_uri": "https://localhost:8080/"
        },
        "id": "FwNLvrjPIJHu",
        "outputId": "d20e518c-5d0f-4026-b249-fdb950b6d4e7"
      },
      "outputs": [
        {
          "output_type": "stream",
          "name": "stdout",
          "text": [
            "[('Exprience', 626), ('Details', 533), ('company', 521), ('months', 511), ('description', 465), ('Project', 298), ('1', 277), ('data', 226), ('year', 221), ('project', 219)]\n"
          ]
        }
      ],
      "source": [
        "from nltk.corpus import stopwords\n",
        "import string\n",
        "stopwords=set(stopwords.words(\"english\"))\n",
        "\n",
        "#add or remove stop words -> stop_words.append('')\n",
        "\n",
        "total_words=[]\n",
        "sentences=data['cleaned text'].values\n",
        "cleanSentences =\"\"\n",
        "\n",
        "for i in range(0,189):\n",
        "    text=clean(sentences[i])\n",
        "    cleanSentences+=text\n",
        "    words=nltk.word_tokenize(text)\n",
        "    for word in words:\n",
        "        if word not in stopwords and word not in string.punctuation:\n",
        "            total_words.append(word)\n",
        "\n",
        "word_freq_dist=nltk.FreqDist(total_words)\n",
        "most_common=word_freq_dist.most_common(10)\n",
        "\n",
        "print(most_common)"
      ]
    },
    {
      "cell_type": "code",
      "execution_count": null,
      "metadata": {
        "colab": {
          "base_uri": "https://localhost:8080/"
        },
        "id": "HcqdnNidIbPt",
        "outputId": "915dc0b4-cd7c-4021-eb5c-47a258f223d8"
      },
      "outputs": [
        {
          "output_type": "stream",
          "name": "stdout",
          "text": [
            "[('yearBmAvcUxckM', 1), ('Webdriver', 1), ('ShnyYaPhDiNSNkcIWQTHKPCxqNxAuivPS', 1), ('Aggregate', 1), ('Chavan', 1), ('Yeshwantrao', 1), ('BNXCvUvbtfsEbWoLvAuiLy', 1), ('workerKlgxNYMQvnEducation', 1), ('leaderLzAHrUKSfh', 1), ('Belief', 1)]\n"
          ]
        }
      ],
      "source": [
        "print(word_freq_dist.most_common()[:-11:-1]) #print the 10 least common words"
      ]
    },
    {
      "cell_type": "code",
      "execution_count": null,
      "metadata": {
        "colab": {
          "base_uri": "https://localhost:8080/"
        },
        "id": "JT0hPOQQIiJd",
        "outputId": "74b837a3-90dc-4ddc-ca6d-caea8a09580e"
      },
      "outputs": [
        {
          "output_type": "stream",
          "name": "stdout",
          "text": [
            "number of long words found = 5450\n",
            "\n"
          ]
        }
      ],
      "source": [
        "words = data['cleaned text'].str.split()\n",
        "\n",
        "#find the word that are in >11 in length or so\n",
        "all_words = [word for sublist in words for word in sublist]\n",
        "long_words = [word for word in all_words if len(word) > 11]\n",
        "print(f\"number of long words found = {len(long_words)}\\n\")"
      ]
    },
    {
      "cell_type": "code",
      "execution_count": null,
      "metadata": {
        "colab": {
          "base_uri": "https://localhost:8080/"
        },
        "id": "qhtizw9tI-Os",
        "outputId": "afdbf6fe-ba51-4bf7-b41c-3d7a1050d798"
      },
      "outputs": [
        {
          "output_type": "stream",
          "name": "stderr",
          "text": [
            "[nltk_data] Downloading package words to /root/nltk_data...\n",
            "[nltk_data]   Package words is already up-to-date!\n"
          ]
        }
      ],
      "source": [
        "import nltk\n",
        "from nltk.corpus import words as nltk_words\n",
        "nltk.download('words')\n",
        "english_words = set(nltk_words.words())\n",
        "\n",
        "#function to remove the longwords that are not in dictionary\n",
        "def remove_long_words(text):\n",
        "    words_in_text = text.split()\n",
        "    cleaned_words = [word for word in words_in_text if len(word) <= 11 or word.lower() in english_words]\n",
        "    return ' '.join(cleaned_words)\n",
        "\n",
        "data['cleaned text'] = data['cleaned text'].apply(remove_long_words)"
      ]
    },
    {
      "cell_type": "code",
      "execution_count": null,
      "metadata": {
        "colab": {
          "base_uri": "https://localhost:8080/"
        },
        "id": "e4vvca28KQXr",
        "outputId": "3697d52b-c614-4485-b2d6-eef6fcfaf94a"
      },
      "outputs": [
        {
          "output_type": "stream",
          "name": "stdout",
          "text": [
            "number of long words found = 4251\n",
            "\n"
          ]
        }
      ],
      "source": [
        "words = data['cleaned text'].str.split()\n",
        "all_words = [word for sublist in words for word in sublist]\n",
        "long_words = [word for word in all_words if len(word) > 10]\n",
        "print(f\"number of long words found = {len(long_words)}\\n\")"
      ]
    },
    {
      "cell_type": "code",
      "execution_count": null,
      "metadata": {
        "colab": {
          "base_uri": "https://localhost:8080/"
        },
        "id": "kER1-k9DKvei",
        "outputId": "6eeba38f-18eb-4dd4-e179-f617f9e72d94"
      },
      "outputs": [
        {
          "output_type": "stream",
          "name": "stdout",
          "text": [
            "first three resumes to visualize data\n",
            "--------------------------------------------------------------------------------\n",
            "Skills Programming Languages Python pandas numpy scipy scikit learn matplotlib\n",
            "--------------------------------------------------------------------------------\n",
            "Areas of Interest Deep Learning Control System Design Programming in Python Electric Machinery Web Development Analytics Technical Activities Hindustan Aeronautics Limited Bangalore For 4 weeks under the guidance of Satish Senior Engineer in the hangar of Mirage 2000 fighter aircraft Technical Skills Programming Matlab Python and Java LabView Python Django Flask LTSPICE intermediate Languages and and MIPOWER intermediate Github GitBash Jupyter Notebook Xampp MySQL Basics Python Software Packages Anaconda Python2 Python3 Pycharm Java IDE Eclipse Operating Systems Windows Ubuntu Debian Kali Linux Education Details January 2019 Electrical and Electronics Engineering Manipal Institute of Technology January 2015 DEEKSHA CENTER January 2013 Little Flower Public School August 2000 Manipal Academy of Higher DATA SCIENCE DATA SCIENCE AND ELECTRICAL ENTHUSIAST Skill Details Data Analysis Exprience Less than 1 year months excel Exprience Less than 1 year months Machine Learning Exprience Less than 1 year months mathematics Exprience Less than 1 year months Python Exprience Less than 1 year months Matlab Exprience Less than 1 year months Electrical Engineering Exprience Less than 1 year months Sql Exprience Less than 1 year Details company description am currently working with Casino based operator name not to be disclosed in need to segment the customers who visit their property based on the value the patrons bring into the prove that the segmentation can be done in much better way than the current system which they have with proper numbers to back it they can implement target marketing strategy to attract their customers who add value to the\n",
            "--------------------------------------------------------------------------------\n",
            "Skills R Python SAP HANA Tableau SAP HANA SQL SAP HANA PAL MS SQL SAP Lumira C Linear Programming Data Modelling Advance Analytics SCM Analytics Retail Analytics Social Media Analytics NLP Education Details January 2017 to January 2018 PGDM Business Analytics Great Lakes Institute of Management Illinois Institute of Technology January 2013 Bachelor of Engineering Electronics and Communication Bengaluru Karnataka New Horizon College of Engineering Bangalore Technological University Data Science Consultant Consultant Deloitte USI Skill Details LINEAR PROGRAMMING Exprience 6 months RETAIL Exprience 6 months RETAIL MARKETING Exprience 6 months SCM Exprience 6 months SQL Exprience Less than 1 year months Deep Learning Exprience Less than 1 year months Machine learning Exprience Less than 1 year months Python Exprience Less than 1 year months R Exprience Less than 1 year Details company Deloitte USI description The project involved analysing historic deals and coming with insights to optimize future Role Was given raw data carried out end to end analysis and presented insights to Key Extract data from client systems across Understand and build reports in Infer meaningful insights to optimize prices and find out process Technical Environment R Industry Cross Industry Service Area Cross Industry Products Project Name Handwriting recognition Consultant 3 The project involved taking handwritten images and converting them to digital text images by object detection and sentence Role was developing sentence correction Key Gather data large enough to capture all English words Train LSTM models on Technical Environment Industry Finance Service Area Financial Services BI development Project Name SWIFT Consultant 8 The project was to develop an analytics infrastructure on top of SAP 4 it would user to view financial reports to respective Reporting also included forecasting Role was leading the offshore Key Design Develop data models for Develop ETL for data flow Validate various Technical Environment SAP HANA Tableau SAP Industry Healthcare Analytics Service Area Life Sciences Product development Project Name Clinical Healthcare System Consultant 2 The project was to develop an analytics infrastructure on top of Argus it would allow users to query faster and provide advance analytics Role was involved from design to deploy phase performed lot of data and built models for Key Design Develop data models for Develop and deploy analytical Validate various Technical Environment Data Modelling SAP HANA Tableau Industry FMCG Service Area Trade Promotion Project Name Consumption Based Planning for Flowers Foods Consultant 8 The project involved setting up of CRM and CBP Role was involved in key data decomposition activities and setting up the base for future year Over the course of the project developed various models and carried out key performance Key Design Develop HANA models for Develop data flow for Developed various views for reporting of Customer Sales Validate various reports in Technical Environment Data Modelling SAP HANA BOBJ Time Series Internal Initiative Industry FMCG Customer Segmentation and RFM analysis Consultant 3 The initiative involved setting up of HANA Python interface and advance analytics on Over the course had suessfully segmented data into five core segments using means and carried out RFM analysis in Also developed algorithm to categorize any new customer under the defined Technical Environment Anaconda3 HANA SPS12 Industry Telecom Invoice state detection Consultant 1 The initiative was to reduce the manual effort in verifying closed and open invoices manually it involved development to decision tree to classify open closed This enabled effort reduction by 60 ZJjelAHEZJ Technical Environment R SAP PAL SAP HANA SPS12 Aenture Experience Industry Analytics Cross Industry In Process Analytics for SAP Senior Developer 19 Aenture Solutions India The project involved development of SAP analytics tool In Process Analytics IPA IBjCZVxHOV My role was to develop database objects and data models to provide operational insights to Role have developed various Finance related KPIs and spearheaded various Introduced SAP Predictive analytics to reduce development time and reuse for KPIs and prepared production planning Key Involved in information gather Designed and implemented SAP HANA data modelling using Attribute View Analytic View and Calculation Developed various KPI individually using complex SQL scripts in Calculation Created procedures in HANA Took ownership and developed Dashboard functionality Involved in building data processing algorithms to be executed in R server for cluster analysis Technical Environment R SAP HANA SQL Industry Cross Industry Aenture Testing Aelerator for SAP Database Developer 21 months Aenture Solutions Pvt Ltd India Role have taken care of all development activities for the ATAS tool and have also completed various deployments of the product Apart from these activities was also actively involved in maintenance of the database servers Production Quality Key Analyzing business understanding the scope getting clarified interacting with business and further transform all to generate attribute mapping documents and reviewing mapping specification documentation Create Update database objects like tables views stored procedures function and packages Monitored SQL Server Error Logs and Application Logs through SQL Server Agent Prepared Data Flow Diagrams Entity Relationship Diagrams using UML Responsible for Designing developing and Normalization of database tables Experience in performance tuning using SQL profiler Involved in QA UAT knowledge transfer and support activities Technical Environment SQL Server 2008 2014 Visual Studio 2010 Windows Server Performance Monitor SQL Server Profiler C PL SQL SQL\n",
            "--------------------------------------------------------------------------------\n"
          ]
        }
      ],
      "source": [
        "cleaned_data=data[\"cleaned text\"]\n",
        "print(\"first three resumes to visualize data\\n{}\".format(\"-\"*80))\n",
        "for i in range(3):\n",
        "    x=cleaned_data[i]\n",
        "    print(\"{}\\n{}\".format(x,\"-\"*80))"
      ]
    },
    {
      "cell_type": "code",
      "execution_count": null,
      "metadata": {
        "id": "qRZ0emKwa1tl"
      },
      "outputs": [],
      "source": [
        "from nltk.corpus import stopwords\n",
        "from nltk.tokenize import word_tokenize\n",
        "\n",
        "# Re-importing the stopwords module\n",
        "stop_words = set(stopwords.words('english'))\n",
        "\n",
        "def remove_stop_words(text):\n",
        "    words = word_tokenize(text)\n",
        "    filtered_words = [word for word in words if word.lower() not in stop_words]\n",
        "    return ' '.join(filtered_words)\n",
        "\n",
        "data['cleaned text'] = data['cleaned text'].apply(remove_stop_words)"
      ]
    },
    {
      "cell_type": "markdown",
      "metadata": {
        "id": "unURRuMAbuqV"
      },
      "source": [
        "random to check if dataset is processed well"
      ]
    },
    {
      "cell_type": "code",
      "execution_count": null,
      "metadata": {
        "colab": {
          "base_uri": "https://localhost:8080/"
        },
        "id": "8nzczMGoSsEM",
        "outputId": "7f7be560-2593-48c4-a2d0-71b9b4d4603a"
      },
      "outputs": [
        {
          "output_type": "stream",
          "name": "stdout",
          "text": [
            "Education Details Bachelor Bachelor Commerce India Guru Nanak high school Sales\n"
          ]
        }
      ],
      "source": [
        "import random\n",
        "data.reset_index(drop=True, inplace=True)\n",
        "random_document = random.choice(data['cleaned text'])\n",
        "print(random_document)"
      ]
    },
    {
      "cell_type": "code",
      "execution_count": null,
      "metadata": {
        "colab": {
          "base_uri": "https://localhost:8080/",
          "height": 580
        },
        "id": "9XJidyQUcpv1",
        "outputId": "d8120fba-61d0-4d1f-905f-e3ccca9f5eac"
      },
      "outputs": [
        {
          "output_type": "execute_result",
          "data": {
            "text/plain": [
              "             Category                                             Resume  \\\n",
              "0        Data Science  qwtnrvduof Skills * Programming Languages: Pyt...   \n",
              "1        Data Science  qwtnrvduof Areas of Interest Deep Learning, Co...   \n",
              "2        Data Science  Skills â¢ R â¢ Python â¢ SAP HANA â¢ Table...   \n",
              "3        Data Science  Education Details \\r\\n MCA   YMCAUST,  Faridab...   \n",
              "4        Data Science  SKILLS C Basics, IOT, Python, MATLAB, Data Sci...   \n",
              "..                ...                                                ...   \n",
              "184           Testing  COMPUTER SKILLS & SOFTWARE KNOWLEDGE MS-Power ...   \n",
              "185           Testing  Skill Set OS Windows XP/7/8/8bNTGBqLmkK1/10 Da...   \n",
              "186           Testing  â¢ Good logical and analytical skills â¢ Pos...   \n",
              "187           Testing  COMPUTER PROFICIENCY â¢ Basic: MS-Office (Pow...   \n",
              "188  Business Analyst  Education Details \\nFebruary 2006 to February ...   \n",
              "\n",
              "                                          cleaned text  \n",
              "0    Skills Programming Languages Python pandas num...  \n",
              "1    Areas Interest Deep Learning Control System De...  \n",
              "2    Skills R Python SAP HANA Tableau SAP HANA SQL ...  \n",
              "3    Education Details MCA YMCAUST Faridabad Haryan...  \n",
              "4    SKILLS C Basics IOT Python MATLAB Data Science...  \n",
              "..                                                 ...  \n",
              "184  COMPUTER SKILLS SOFTWARE KNOWLEDGE MS Power Po...  \n",
              "185  Skill Set OS Windows XP 7 8 10 Database MYSQL ...  \n",
              "186  Good logical analytical skills Positive attitu...  \n",
              "187  COMPUTER PROFICIENCY Basic MS Office PowerPoin...  \n",
              "188  Education Details February 2006 February 2006 ...  \n",
              "\n",
              "[189 rows x 3 columns]"
            ],
            "text/html": [
              "\n",
              "  <div id=\"df-0664c7d5-cd1c-4dac-ab8b-b4911716cf8c\" class=\"colab-df-container\">\n",
              "    <div>\n",
              "<style scoped>\n",
              "    .dataframe tbody tr th:only-of-type {\n",
              "        vertical-align: middle;\n",
              "    }\n",
              "\n",
              "    .dataframe tbody tr th {\n",
              "        vertical-align: top;\n",
              "    }\n",
              "\n",
              "    .dataframe thead th {\n",
              "        text-align: right;\n",
              "    }\n",
              "</style>\n",
              "<table border=\"1\" class=\"dataframe\">\n",
              "  <thead>\n",
              "    <tr style=\"text-align: right;\">\n",
              "      <th></th>\n",
              "      <th>Category</th>\n",
              "      <th>Resume</th>\n",
              "      <th>cleaned text</th>\n",
              "    </tr>\n",
              "  </thead>\n",
              "  <tbody>\n",
              "    <tr>\n",
              "      <th>0</th>\n",
              "      <td>Data Science</td>\n",
              "      <td>qwtnrvduof Skills * Programming Languages: Pyt...</td>\n",
              "      <td>Skills Programming Languages Python pandas num...</td>\n",
              "    </tr>\n",
              "    <tr>\n",
              "      <th>1</th>\n",
              "      <td>Data Science</td>\n",
              "      <td>qwtnrvduof Areas of Interest Deep Learning, Co...</td>\n",
              "      <td>Areas Interest Deep Learning Control System De...</td>\n",
              "    </tr>\n",
              "    <tr>\n",
              "      <th>2</th>\n",
              "      <td>Data Science</td>\n",
              "      <td>Skills â¢ R â¢ Python â¢ SAP HANA â¢ Table...</td>\n",
              "      <td>Skills R Python SAP HANA Tableau SAP HANA SQL ...</td>\n",
              "    </tr>\n",
              "    <tr>\n",
              "      <th>3</th>\n",
              "      <td>Data Science</td>\n",
              "      <td>Education Details \\r\\n MCA   YMCAUST,  Faridab...</td>\n",
              "      <td>Education Details MCA YMCAUST Faridabad Haryan...</td>\n",
              "    </tr>\n",
              "    <tr>\n",
              "      <th>4</th>\n",
              "      <td>Data Science</td>\n",
              "      <td>SKILLS C Basics, IOT, Python, MATLAB, Data Sci...</td>\n",
              "      <td>SKILLS C Basics IOT Python MATLAB Data Science...</td>\n",
              "    </tr>\n",
              "    <tr>\n",
              "      <th>...</th>\n",
              "      <td>...</td>\n",
              "      <td>...</td>\n",
              "      <td>...</td>\n",
              "    </tr>\n",
              "    <tr>\n",
              "      <th>184</th>\n",
              "      <td>Testing</td>\n",
              "      <td>COMPUTER SKILLS &amp; SOFTWARE KNOWLEDGE MS-Power ...</td>\n",
              "      <td>COMPUTER SKILLS SOFTWARE KNOWLEDGE MS Power Po...</td>\n",
              "    </tr>\n",
              "    <tr>\n",
              "      <th>185</th>\n",
              "      <td>Testing</td>\n",
              "      <td>Skill Set OS Windows XP/7/8/8bNTGBqLmkK1/10 Da...</td>\n",
              "      <td>Skill Set OS Windows XP 7 8 10 Database MYSQL ...</td>\n",
              "    </tr>\n",
              "    <tr>\n",
              "      <th>186</th>\n",
              "      <td>Testing</td>\n",
              "      <td>â¢ Good logical and analytical skills â¢ Pos...</td>\n",
              "      <td>Good logical analytical skills Positive attitu...</td>\n",
              "    </tr>\n",
              "    <tr>\n",
              "      <th>187</th>\n",
              "      <td>Testing</td>\n",
              "      <td>COMPUTER PROFICIENCY â¢ Basic: MS-Office (Pow...</td>\n",
              "      <td>COMPUTER PROFICIENCY Basic MS Office PowerPoin...</td>\n",
              "    </tr>\n",
              "    <tr>\n",
              "      <th>188</th>\n",
              "      <td>Business Analyst</td>\n",
              "      <td>Education Details \\nFebruary 2006 to February ...</td>\n",
              "      <td>Education Details February 2006 February 2006 ...</td>\n",
              "    </tr>\n",
              "  </tbody>\n",
              "</table>\n",
              "<p>189 rows × 3 columns</p>\n",
              "</div>\n",
              "    <div class=\"colab-df-buttons\">\n",
              "\n",
              "  <div class=\"colab-df-container\">\n",
              "    <button class=\"colab-df-convert\" onclick=\"convertToInteractive('df-0664c7d5-cd1c-4dac-ab8b-b4911716cf8c')\"\n",
              "            title=\"Convert this dataframe to an interactive table.\"\n",
              "            style=\"display:none;\">\n",
              "\n",
              "  <svg xmlns=\"http://www.w3.org/2000/svg\" height=\"24px\" viewBox=\"0 -960 960 960\">\n",
              "    <path d=\"M120-120v-720h720v720H120Zm60-500h600v-160H180v160Zm220 220h160v-160H400v160Zm0 220h160v-160H400v160ZM180-400h160v-160H180v160Zm440 0h160v-160H620v160ZM180-180h160v-160H180v160Zm440 0h160v-160H620v160Z\"/>\n",
              "  </svg>\n",
              "    </button>\n",
              "\n",
              "  <style>\n",
              "    .colab-df-container {\n",
              "      display:flex;\n",
              "      gap: 12px;\n",
              "    }\n",
              "\n",
              "    .colab-df-convert {\n",
              "      background-color: #E8F0FE;\n",
              "      border: none;\n",
              "      border-radius: 50%;\n",
              "      cursor: pointer;\n",
              "      display: none;\n",
              "      fill: #1967D2;\n",
              "      height: 32px;\n",
              "      padding: 0 0 0 0;\n",
              "      width: 32px;\n",
              "    }\n",
              "\n",
              "    .colab-df-convert:hover {\n",
              "      background-color: #E2EBFA;\n",
              "      box-shadow: 0px 1px 2px rgba(60, 64, 67, 0.3), 0px 1px 3px 1px rgba(60, 64, 67, 0.15);\n",
              "      fill: #174EA6;\n",
              "    }\n",
              "\n",
              "    .colab-df-buttons div {\n",
              "      margin-bottom: 4px;\n",
              "    }\n",
              "\n",
              "    [theme=dark] .colab-df-convert {\n",
              "      background-color: #3B4455;\n",
              "      fill: #D2E3FC;\n",
              "    }\n",
              "\n",
              "    [theme=dark] .colab-df-convert:hover {\n",
              "      background-color: #434B5C;\n",
              "      box-shadow: 0px 1px 3px 1px rgba(0, 0, 0, 0.15);\n",
              "      filter: drop-shadow(0px 1px 2px rgba(0, 0, 0, 0.3));\n",
              "      fill: #FFFFFF;\n",
              "    }\n",
              "  </style>\n",
              "\n",
              "    <script>\n",
              "      const buttonEl =\n",
              "        document.querySelector('#df-0664c7d5-cd1c-4dac-ab8b-b4911716cf8c button.colab-df-convert');\n",
              "      buttonEl.style.display =\n",
              "        google.colab.kernel.accessAllowed ? 'block' : 'none';\n",
              "\n",
              "      async function convertToInteractive(key) {\n",
              "        const element = document.querySelector('#df-0664c7d5-cd1c-4dac-ab8b-b4911716cf8c');\n",
              "        const dataTable =\n",
              "          await google.colab.kernel.invokeFunction('convertToInteractive',\n",
              "                                                    [key], {});\n",
              "        if (!dataTable) return;\n",
              "\n",
              "        const docLinkHtml = 'Like what you see? Visit the ' +\n",
              "          '<a target=\"_blank\" href=https://colab.research.google.com/notebooks/data_table.ipynb>data table notebook</a>'\n",
              "          + ' to learn more about interactive tables.';\n",
              "        element.innerHTML = '';\n",
              "        dataTable['output_type'] = 'display_data';\n",
              "        await google.colab.output.renderOutput(dataTable, element);\n",
              "        const docLink = document.createElement('div');\n",
              "        docLink.innerHTML = docLinkHtml;\n",
              "        element.appendChild(docLink);\n",
              "      }\n",
              "    </script>\n",
              "  </div>\n",
              "\n",
              "\n",
              "<div id=\"df-042c89b8-4736-4cbd-8c58-90c59c74ec6b\">\n",
              "  <button class=\"colab-df-quickchart\" onclick=\"quickchart('df-042c89b8-4736-4cbd-8c58-90c59c74ec6b')\"\n",
              "            title=\"Suggest charts\"\n",
              "            style=\"display:none;\">\n",
              "\n",
              "<svg xmlns=\"http://www.w3.org/2000/svg\" height=\"24px\"viewBox=\"0 0 24 24\"\n",
              "     width=\"24px\">\n",
              "    <g>\n",
              "        <path d=\"M19 3H5c-1.1 0-2 .9-2 2v14c0 1.1.9 2 2 2h14c1.1 0 2-.9 2-2V5c0-1.1-.9-2-2-2zM9 17H7v-7h2v7zm4 0h-2V7h2v10zm4 0h-2v-4h2v4z\"/>\n",
              "    </g>\n",
              "</svg>\n",
              "  </button>\n",
              "\n",
              "<style>\n",
              "  .colab-df-quickchart {\n",
              "      --bg-color: #E8F0FE;\n",
              "      --fill-color: #1967D2;\n",
              "      --hover-bg-color: #E2EBFA;\n",
              "      --hover-fill-color: #174EA6;\n",
              "      --disabled-fill-color: #AAA;\n",
              "      --disabled-bg-color: #DDD;\n",
              "  }\n",
              "\n",
              "  [theme=dark] .colab-df-quickchart {\n",
              "      --bg-color: #3B4455;\n",
              "      --fill-color: #D2E3FC;\n",
              "      --hover-bg-color: #434B5C;\n",
              "      --hover-fill-color: #FFFFFF;\n",
              "      --disabled-bg-color: #3B4455;\n",
              "      --disabled-fill-color: #666;\n",
              "  }\n",
              "\n",
              "  .colab-df-quickchart {\n",
              "    background-color: var(--bg-color);\n",
              "    border: none;\n",
              "    border-radius: 50%;\n",
              "    cursor: pointer;\n",
              "    display: none;\n",
              "    fill: var(--fill-color);\n",
              "    height: 32px;\n",
              "    padding: 0;\n",
              "    width: 32px;\n",
              "  }\n",
              "\n",
              "  .colab-df-quickchart:hover {\n",
              "    background-color: var(--hover-bg-color);\n",
              "    box-shadow: 0 1px 2px rgba(60, 64, 67, 0.3), 0 1px 3px 1px rgba(60, 64, 67, 0.15);\n",
              "    fill: var(--button-hover-fill-color);\n",
              "  }\n",
              "\n",
              "  .colab-df-quickchart-complete:disabled,\n",
              "  .colab-df-quickchart-complete:disabled:hover {\n",
              "    background-color: var(--disabled-bg-color);\n",
              "    fill: var(--disabled-fill-color);\n",
              "    box-shadow: none;\n",
              "  }\n",
              "\n",
              "  .colab-df-spinner {\n",
              "    border: 2px solid var(--fill-color);\n",
              "    border-color: transparent;\n",
              "    border-bottom-color: var(--fill-color);\n",
              "    animation:\n",
              "      spin 1s steps(1) infinite;\n",
              "  }\n",
              "\n",
              "  @keyframes spin {\n",
              "    0% {\n",
              "      border-color: transparent;\n",
              "      border-bottom-color: var(--fill-color);\n",
              "      border-left-color: var(--fill-color);\n",
              "    }\n",
              "    20% {\n",
              "      border-color: transparent;\n",
              "      border-left-color: var(--fill-color);\n",
              "      border-top-color: var(--fill-color);\n",
              "    }\n",
              "    30% {\n",
              "      border-color: transparent;\n",
              "      border-left-color: var(--fill-color);\n",
              "      border-top-color: var(--fill-color);\n",
              "      border-right-color: var(--fill-color);\n",
              "    }\n",
              "    40% {\n",
              "      border-color: transparent;\n",
              "      border-right-color: var(--fill-color);\n",
              "      border-top-color: var(--fill-color);\n",
              "    }\n",
              "    60% {\n",
              "      border-color: transparent;\n",
              "      border-right-color: var(--fill-color);\n",
              "    }\n",
              "    80% {\n",
              "      border-color: transparent;\n",
              "      border-right-color: var(--fill-color);\n",
              "      border-bottom-color: var(--fill-color);\n",
              "    }\n",
              "    90% {\n",
              "      border-color: transparent;\n",
              "      border-bottom-color: var(--fill-color);\n",
              "    }\n",
              "  }\n",
              "</style>\n",
              "\n",
              "  <script>\n",
              "    async function quickchart(key) {\n",
              "      const quickchartButtonEl =\n",
              "        document.querySelector('#' + key + ' button');\n",
              "      quickchartButtonEl.disabled = true;  // To prevent multiple clicks.\n",
              "      quickchartButtonEl.classList.add('colab-df-spinner');\n",
              "      try {\n",
              "        const charts = await google.colab.kernel.invokeFunction(\n",
              "            'suggestCharts', [key], {});\n",
              "      } catch (error) {\n",
              "        console.error('Error during call to suggestCharts:', error);\n",
              "      }\n",
              "      quickchartButtonEl.classList.remove('colab-df-spinner');\n",
              "      quickchartButtonEl.classList.add('colab-df-quickchart-complete');\n",
              "    }\n",
              "    (() => {\n",
              "      let quickchartButtonEl =\n",
              "        document.querySelector('#df-042c89b8-4736-4cbd-8c58-90c59c74ec6b button');\n",
              "      quickchartButtonEl.style.display =\n",
              "        google.colab.kernel.accessAllowed ? 'block' : 'none';\n",
              "    })();\n",
              "  </script>\n",
              "</div>\n",
              "\n",
              "  <div id=\"id_fee37961-0a91-4a4d-bb49-42f9de7fbd16\">\n",
              "    <style>\n",
              "      .colab-df-generate {\n",
              "        background-color: #E8F0FE;\n",
              "        border: none;\n",
              "        border-radius: 50%;\n",
              "        cursor: pointer;\n",
              "        display: none;\n",
              "        fill: #1967D2;\n",
              "        height: 32px;\n",
              "        padding: 0 0 0 0;\n",
              "        width: 32px;\n",
              "      }\n",
              "\n",
              "      .colab-df-generate:hover {\n",
              "        background-color: #E2EBFA;\n",
              "        box-shadow: 0px 1px 2px rgba(60, 64, 67, 0.3), 0px 1px 3px 1px rgba(60, 64, 67, 0.15);\n",
              "        fill: #174EA6;\n",
              "      }\n",
              "\n",
              "      [theme=dark] .colab-df-generate {\n",
              "        background-color: #3B4455;\n",
              "        fill: #D2E3FC;\n",
              "      }\n",
              "\n",
              "      [theme=dark] .colab-df-generate:hover {\n",
              "        background-color: #434B5C;\n",
              "        box-shadow: 0px 1px 3px 1px rgba(0, 0, 0, 0.15);\n",
              "        filter: drop-shadow(0px 1px 2px rgba(0, 0, 0, 0.3));\n",
              "        fill: #FFFFFF;\n",
              "      }\n",
              "    </style>\n",
              "    <button class=\"colab-df-generate\" onclick=\"generateWithVariable('data')\"\n",
              "            title=\"Generate code using this dataframe.\"\n",
              "            style=\"display:none;\">\n",
              "\n",
              "  <svg xmlns=\"http://www.w3.org/2000/svg\" height=\"24px\"viewBox=\"0 0 24 24\"\n",
              "       width=\"24px\">\n",
              "    <path d=\"M7,19H8.4L18.45,9,17,7.55,7,17.6ZM5,21V16.75L18.45,3.32a2,2,0,0,1,2.83,0l1.4,1.43a1.91,1.91,0,0,1,.58,1.4,1.91,1.91,0,0,1-.58,1.4L9.25,21ZM18.45,9,17,7.55Zm-12,3A5.31,5.31,0,0,0,4.9,8.1,5.31,5.31,0,0,0,1,6.5,5.31,5.31,0,0,0,4.9,4.9,5.31,5.31,0,0,0,6.5,1,5.31,5.31,0,0,0,8.1,4.9,5.31,5.31,0,0,0,12,6.5,5.46,5.46,0,0,0,6.5,12Z\"/>\n",
              "  </svg>\n",
              "    </button>\n",
              "    <script>\n",
              "      (() => {\n",
              "      const buttonEl =\n",
              "        document.querySelector('#id_fee37961-0a91-4a4d-bb49-42f9de7fbd16 button.colab-df-generate');\n",
              "      buttonEl.style.display =\n",
              "        google.colab.kernel.accessAllowed ? 'block' : 'none';\n",
              "\n",
              "      buttonEl.onclick = () => {\n",
              "        google.colab.notebook.generateWithVariable('data');\n",
              "      }\n",
              "      })();\n",
              "    </script>\n",
              "  </div>\n",
              "\n",
              "    </div>\n",
              "  </div>\n"
            ],
            "application/vnd.google.colaboratory.intrinsic+json": {
              "type": "dataframe",
              "variable_name": "data",
              "summary": "{\n  \"name\": \"data\",\n  \"rows\": 189,\n  \"fields\": [\n    {\n      \"column\": \"Category\",\n      \"properties\": {\n        \"dtype\": \"category\",\n        \"samples\": [\n          \"Civil Engineer\",\n          \"DevOps Engineer\",\n          \"Data Science\"\n        ],\n        \"num_unique_values\": 25,\n        \"semantic_type\": \"\",\n        \"description\": \"\"\n      }\n    },\n    {\n      \"column\": \"Resume\",\n      \"properties\": {\n        \"dtype\": \"string\",\n        \"samples\": [\n          \"COMPUTER SKILLS & SOFTWARE KNOWLEDGE MS-Power Point, MS - Office, C, Protius (PCB Design), Multisim, Micro wind, Matlab, Keil, Latex, Basic I nternet Fundamentals, Software and Hardware Knowledge PROJECT DETAILS Diploma Project: Speed Control of DC Motor Using Heart BeatsbNTGBqLmkK Mini Project: Water Gardening System Using Solar PanelckeKJOFvWQ Final Year BE Project: Iris Recognition systemqunsOBcUdTEducation Details \\r\\nJanuary 2016 BE EDUCATION Pune, Maharashtra PUNE University\\r\\nJanuary 2010 SSC   Maharashtra Board\\r\\nQuality Engineer \\r\\n\\r\\nQuality Engineer - Matrix Technologies\\r\\nSkill Details \\r\\nMATLAB- Exprience - 6 months\\r\\nPCB- Exprience - 6 months\\r\\nPCB DESIGN- Exprience - 6 monthsCompany Details \\r\\ncompany - Matrix Technologies\\r\\ndescription - \\r\\ncompany - RB Electronics\\r\\ndescription - \",\n          \"TechnicalProficiencies DB: Oracle 11g Domains: Investment Banking, Advertising, InsurancebNTGBqLmkK Programming Skills: SQL, PLSQL BI Tools: Informatica 9ckeKJOFvWQ1 OS: Windows, Unix Professional Development Trainings \\u00e2\\u0080\\u00a2 Concepts in Data Warehousing, Business Intelligence, ETLqunsOBcUdT \\u00e2\\u0080\\u00a2 BI Tools -Informatica 9X Education Details \\r\\n BCA  Nanded, Maharashtra Nanded University\\r\\nETL Developer \\r\\n\\r\\nETL Developer - Sun Trust Bank NY\\r\\nSkill Details \\r\\nETL- Exprience - 39 months\\r\\nEXTRACT, TRANSFORM, AND LOAD- Exprience - 39 months\\r\\nINFORMATICA- Exprience - 39 months\\r\\nORACLE- Exprience - 39 months\\r\\nUNIX- Exprience - 39 monthsCompany Details \\r\\ncompany - Sun Trust Bank NY\\r\\ndescription - Sun Trust Bank, NY JAN 2018 to present\\r\\nClient: Sun Trust Bank NY\\r\\nEnvironment: Informatica Power Center 9RYNOolXhuV1, Oracle 11g, unixSAJhwmUxoO\\r\\n\\r\\nRole: ETL Developer\\r\\n\\r\\nProject Profile:\\r\\nSun Trust Bank is a US based multinational financial services holding company, headquarters in NY that operates the Bank in New York and other financial services investmentsiQmADshIYN The company is organized as a stock corporation with four divisions: investment banking, private banking, Retail banking and a shared services group that provides\\r\\nFinancial services and support to the other divisionsisZoGErzLF\\r\\nThe objective of the first module was to create a DR system for the bank with a central point of communication and storage for Listed, Cash securities, Loans, Bonds, Notes, Equities, Rates, Commodities, and\\r\\nFX asset classesBRBEGnCeAe\\r\\nContribution / Highlights:\\r\\n\\r\\n\\u00e2\\u0080\\u00a2 Liaising closely with Project Manager, Business Analysts, Product Architects, and Requirements Modelers (CFOC) to define Technical requirements and create project documentationYDLarRfnns\\r\\n\\u00e2\\u0080\\u00a2 Development using Infa 9LzAHrUKSfh1, 11g/Oracle, UNIXKlgxNYMQvn\\r\\n\\u00e2\\u0080\\u00a2 Use Informatica PowerCenter for extraction, transformation and loading (ETL) of data in the DatabaseNXCvUvbtfs\\r\\n\\u00e2\\u0080\\u00a2 Created and configured Sessions in Informatica workflow Manager for loading data into Data base tables from various heterogeneous database sources like Flat Files, Oracle etcbWoLvAuiLy\\r\\n\\u00e2\\u0080\\u00a2 Unit testing and system integration testing of the developed mappingshnyYaPhDiN\\r\\n\\u00e2\\u0080\\u00a2 Providing production Support of the deployed codeNkcIWQTHKP\\r\\n\\u00e2\\u0080\\u00a2 Providing solutions to the business for the Production issuesxqNxAuivPS\\r\\n\\u00e2\\u0080\\u00a2 Had one to One interaction with the client throughout the project and in daily meetingsBmAvcUxckM\\r\\n\\r\\nProject #2\\r\\ncompany - Marshall Multimedia\\r\\ndescription - JUN 2016 to DEC 2017\\r\\n\\r\\nClient: Marshall Multimedia\\r\\nEnvironment: Informatica Power Center 9iWhceEFjCy1, Oracle 11g, unixCxYxcGWjPj\\r\\n\\r\\nRole: ETL Developer\\r\\n\\r\\nProject Profile:\\r\\nMarshall Multimedia is a US based multimedia advertisement services based organization which has\\r\\nhead courter in New YorkEQvLVADAGX EGC interface systems are advert management, Customer Management, Billing and\\r\\nProvisioning Systems for Consumer& Enterprise CustomersPpMbRHSvyr\\r\\nThe main aim of the project was to create an enterprise data warehouse which would suffice the need of reports belonging to the following categories: Financial reports, management reports and\\r\\nrejection reportsYiBbyqgdgn The professional reports were created by Cognos and ETL work was performed by\\r\\nInformaticaEOINHmydRG This project is to load the advert details and magazine details coming in Relational tables into data warehouse and calculate the compensation and incentive amount monthly twice as per business\\r\\nrulesrVhzhDLlax\\r\\n\\r\\nContribution / Highlights:\\r\\n\\u00e2\\u0080\\u00a2 Developed mappings using different sources by using Informatica transformationsZvElTfpBRu\\r\\n\\u00e2\\u0080\\u00a2 Created and configured Sessions in Informatica workflow Manager for loading data into Data Mart tables from various heterogeneous database sources like Flat Files, Oracle etcjTvXLggnCF\\r\\n\\r\\n2\\r\\n\\u00e2\\u0080\\u00a2 Unit testing and system integration testing of the developed mappingsStLhHExurt\\r\\n\\u00e2\\u0080\\u00a2 Providing solutions to the business for the Production issuesHbTaSQYScq\\r\\n\\r\\nProject #3\\r\\ncompany - Assurant healthcare/Insurance Miami USA\\r\\ndescription - Assurant, USA                                                                                                    NOV 2015 to MAY 2016\\r\\n\\r\\nProject: ACT BI - State Datamart\\r\\nClient: Assurant healthcare/Insurance Miami USA\\r\\nEnvironment: Informatica Power Center 9OUTUKFITfm1, Oracle 11g, unixiGgJTACsrU\\r\\n\\r\\nRole: ETL Developer\\r\\n\\r\\nProject Profile:\\r\\nAssurant, IncrmzlDPhkEV is a holding company with businesses that provide a diverse set of specialty, niche-market insurance\\r\\nproducts in the property, casualty, life and health insurance sectorsDsxAipmEds The company's four operating segments are Assurant\\r\\nEmployee Benefits, Assurant Health, Assurant Solutions and Assurant Specialty PropertyWKcIwwPhwH\\r\\nThe project aim at building State Datamart for enterprise solutionotMQFxwyst I am part of team which is responsible for ETL\\r\\nDesign & development along with testingIROakcEHjl\\r\\n\\r\\nContribution / Highlights:\\r\\n\\u00e2\\u0080\\u00a2   Performed small enhancement\\r\\n\\u00e2\\u0080\\u00a2   Daily load monitoring\\r\\n\\u00e2\\u0080\\u00a2   Attend to Informatica job failures by analyzing the root cause, resolving the failure using standard\\r\\ndocumented processbQHxpFbEaT\\r\\n\\u00e2\\u0080\\u00a2   Experience in writing SQL statementsBxEhGYcJjM\\r\\n\\u00e2\\u0080\\u00a2   Strong Problem Analysis & Resolution skills and ability to work in Multi Platform Environments\\r\\n\\u00e2\\u0080\\u00a2   Scheduled the Informatica jobs using Informatica scheduler\\r\\n\\u00e2\\u0080\\u00a2   Extensively used ETL methodology for developing and supporting data extraction, transformations and loading process, in a corporate-wide-ETL Solution using InformaticamKXDmyMLja\\r\\n\\u00e2\\u0080\\u00a2   Involved in creating the Unit cases and uploaded in to Quality Center for Unit Testing and UTR\\r\\n\\u00e2\\u0080\\u00a2   Ensure that daily support tasks are done in accordance with the defined SLAcxejhKboOs\",\n          \"KEY SKILLS: \\u00e2\\u0080\\u00a2 Computerized accounting with tally \\u00e2\\u0080\\u00a2 Sincere & hard working \\u00e2\\u0080\\u00a2 Management accounting & income tax \\u00e2\\u0080\\u00a2 Good communication & leadership \\u00e2\\u0080\\u00a2 Two and four wheeler driving license \\u00e2\\u0080\\u00a2 Internet & Ecommerce management COMPUTER SKILLS: \\u00e2\\u0080\\u00a2 C Language \\u00e2\\u0080\\u00a2 Web programing \\u00e2\\u0080\\u00a2 Tally \\u00e2\\u0080\\u00a2 Dbms Education Details \\r\\nJune 2017 to June 2019 Mba Finance/hr India Mlrit\\r\\nJune 2014 to June 2017 Bcom Computer Hyderabad, Telangana Osmania university\\r\\nJune 2012 to April 2014 Inter MEC India Srimedhav\\r\\nHr \\r\\n\\r\\nNani\\r\\nSkill Details \\r\\naccounting- Exprience - 6 months\\r\\nDATABASE MANAGEMENT SYSTEM- Exprience - 6 months\\r\\nDbms- Exprience - 6 months\\r\\nManagement accounting- Exprience - 6 months\\r\\nEcommerce- Exprience - 6 monthsCompany Details \\r\\ncompany - Valuelabs\\r\\ndescription - They will give the RRF form the required DLT then the hand over to RLT then scrum master will take the form from the RLT then scrum master will give the forms to trainee which we can work on the requirement till the candidate receive the offer from the company\"\n        ],\n        \"num_unique_values\": 189,\n        \"semantic_type\": \"\",\n        \"description\": \"\"\n      }\n    },\n    {\n      \"column\": \"cleaned text\",\n      \"properties\": {\n        \"dtype\": \"string\",\n        \"samples\": [\n          \"Computer Knowledge Proficient basic use MS office Microsoft Dynamics AX software SAIBA Details MBA Distance education Bharathiar University PA College Engineering Technology HSC Hr Sec School SSC School HR Admin Bharat Skill Details DYNAMICS Exprience 6 months DYNAMICS AX Exprience 6 months MICROSOFT DYNAMICS Exprience 6 months MICROSOFT DYNAMICS AX Exprience 6 months MS OFFICE Exprience 6 Details company Sri Ramesh Gaarment description Tirupur Administration well clients service corporate companies insured knowledge gathered Garments spinning mills FEB 2018 Still Sri Ramesh Gaarment HR Activities Attendance maintenance Time cards maintenance Staffs labors individual records maintenance Project Advanced automobile collision avoidance blackbox CAR\",\n          \"SKILLS Languages C Basic JAVA Basic Web HTML5 CSS3 Bootstrap JavaScript jQuery Corel Draw Photoshop Illustrator Databases IDE Tools Sublime Text Notepad Operating Systems Windows XP Windows 7Education Details September 2015 Bachelor Engineer Information technology Nagpur Maharashtra Nagpur University May 2011 HSC Secondary Higher Secondary State Board Secondary June 2009 SSC Secondary Higher Secondary Maharashtra State Board Secondary Web Graphics Designer Web Graphics Designer Virtuous Media Point Pune Skill Details BOOTSTRAP Exprience 24 months HTML5 Exprience 24 months JAVASCRIPT Exprience 24 months jQuery Exprience 24 months COREL DRAW Exprience 24 months Adobe Photoshop Exprience 24 months Adobe Illustrator Exprience 12 months CSS3 Exprience 24 Details company Virtuous Media Point description company CNC Web World description Internship Program sense Solution Nagpur Web Designing Presented Project Competition Innovesta 15 Indira Gandhi College Engineering Presented National Level Paper Presentation TECH WAVE 2015 company sense Solution description Key Result Areas Designed websites solutions studying information needs conferring users studying systems flow data usage work Understood process provided use cases business functional technical Interacted users requirement gathering prepared functional low level design Software Development Life cycle SDLC Agile methodology right requirement analysis Performed detailed design modules along implementation documentation integrated software modules Developed team Highlights Developed various modules per customer requirement identified fixed number bugs related code Database connectivity UI Defects Analyzed modified existing codes incorporate number changes application user wrote new codes Coded implemented integrated complex programs using HTML5 CSS3 JavaScript jQuery good command Graphics designing effective PROJECTS Nagpur united corporation admin Tagline videos admin Smartbadge admin projects used like HTML5 CSS3 Bootstrap JavaScript jQuery text editor sublime used like HTML5 CSS3 Bootstrap javascript text editor notepad WKcIwwPhwH Design various Logos Brochures Advertising Banners Visiting Cards Pamphlet Hoardings FINAL YEAR PROJECT Major Project Title WEB BASED DISEASE DIAGNOSIS EXPE Duration 1 Year Description project provide website doctor gives online consultation particular System gives better suggestions health Mini Project Development SHOPPING MANAGEMENT SYSTEM Developed C gBsjSVzaoY CURRICULUM EXTRA CURRICULUM ACTIVITIES company FACE description Co ordinator project\",\n          \"Technical Skill Set Big Data Ecosystems Hadoop HDFS HBase Map Reduce Sqoop Hive Pig Spark Core Language Scala Core Java SQL PLSQL Sell Scripting ETL Tools Informatica Power Talend Tools Eclipse Intellij Platforms Windows Family Linux UNIX Databases MySQL Details Pune MAHARASHTRA Pune University Hodoop Developer Hodoop Developer PRGX India Private Limited Pune Skill Details Company Details company PRGX India Private Limited Pune description Team Size 10 Environment Hive Spark Sqoop Scala Project Description bank wanted help customers avail different products bank analyzing expenditure customers spending ranges online shopping medical expenses hospitals cash debit card usage behavior allows bank create analytical report based bank used display product offers customer portal built using portal allows customers login see make day day basis analytics also help customers plan budgets budget watch financial forecast embedded portal used hadoop framework analyes data per rules regulations placed regulators respective offers interest rates also complied regulations processing done using hadoop framework big data analytics Role Import data legacy system hadoop using Sqoop Implement business logic analyses data Per process data using Create hive script loading data Sourcing various attributes data processing logic retrieve correct Project 2 company PRGX India Private Limited Pune description company PRGX India Private Limited Pune description Team Size 11 Environment Hadoop HDFS Hive Sqoop MySQL Map Reduce Project Description Purpose project store terabytes information web application extract meaningful information solution based open source data stored hadoop file system processed using Map Reduce trun includes getting raw html data micro websites process html obtain product user information extract various reports vistor tracking information export information processing Role Move crawl data flat files generated various micro sites HDFS Sqoop implementation interaction database Write Map Reduce scripts process data Create hive tables store processed data tabular Reports creation hive Project 3 company PRGX India Private Limited Pune description Team Size 15 Environment Informatica Oracle11g UNIX Project Description Pfizer American global pharmaceutical corporation New York main objective project build Development Data Repository Pfizer downstream application like Etrack TSP database SADMS GFS GDO sql request OLTP system directly due performance OLTP system goes slows created Development Data Repository replace entire sql request directly OLTP DDR process extracts clinical pre clinical study product subject sites related information upstream like EPECS CDSS RCM PRC CLINICAL EDH applying business logic put DDR core snapshot dimensional layer created used reporting Role understand analyze requirement documents resolve design Informatica mappings using various basic like Filter Router Source qualifier Lookup etc advance like Aggregators Joiner Sorters Perform cross Unit Integration testing mappings developed within Reporting bugs bug Create workflow batches set session Implemented Change Data Capture using mapping parameters SCD SK Developed Mapplet reusable populate data data Created Sessions Worklets using workflow Manager load data Target Involved Unit Case Testing UTC Performing Unit Testing UAT SCD Type1 Type2 fact load CDC Personal Scan Address Jijayi Heights Flat 118 Narhe Police chowki Pune 411041\"\n        ],\n        \"num_unique_values\": 185,\n        \"semantic_type\": \"\",\n        \"description\": \"\"\n      }\n    }\n  ]\n}"
            }
          },
          "metadata": {},
          "execution_count": 28
        }
      ],
      "source": [
        "data"
      ]
    },
    {
      "cell_type": "markdown",
      "metadata": {
        "id": "g_Jz6umWIuPw"
      },
      "source": [
        "BERT fine tuning"
      ]
    },
    {
      "cell_type": "code",
      "execution_count": null,
      "metadata": {
        "colab": {
          "base_uri": "https://localhost:8080/"
        },
        "id": "4ixpTGWaiQvT",
        "outputId": "adf8d5be-44bd-4d59-f30a-fdc793c93726"
      },
      "outputs": [
        {
          "output_type": "execute_result",
          "data": {
            "text/plain": [
              "{'Data Science': 0,\n",
              " 'HR': 1,\n",
              " 'Advocate': 2,\n",
              " 'Arts': 3,\n",
              " 'Web Designing': 4,\n",
              " 'Mechanical Engineer': 5,\n",
              " 'Sales': 6,\n",
              " 'Health and fitness': 7,\n",
              " 'Civil Engineer': 8,\n",
              " 'Java Developer': 9,\n",
              " 'Business Analyst': 10,\n",
              " 'SAP Developer': 11,\n",
              " 'Automation Testing': 12,\n",
              " 'Electrical Engineering': 13,\n",
              " 'Operations Manager': 14,\n",
              " 'Python Developer': 15,\n",
              " 'DevOps Engineer': 16,\n",
              " 'Network Security Engineer': 17,\n",
              " 'PMO': 18,\n",
              " 'Database': 19,\n",
              " 'Hadoop': 20,\n",
              " 'ETL Developer': 21,\n",
              " 'DotNet Developer': 22,\n",
              " 'Blockchain': 23,\n",
              " 'Testing': 24}"
            ]
          },
          "metadata": {},
          "execution_count": 29
        }
      ],
      "source": [
        "datalabels = {}\n",
        "for idx, label in enumerate(data.Category.unique()):\n",
        "    datalabels[label] = idx\n",
        "datalabels"
      ]
    },
    {
      "cell_type": "code",
      "execution_count": null,
      "metadata": {
        "id": "3SU89cpTiZo8"
      },
      "outputs": [],
      "source": [
        "data['labels'] = data.Category.apply(func=lambda x: datalabels[x])\n",
        "data['labels'] = data.labels.astype(np.int64)"
      ]
    },
    {
      "cell_type": "code",
      "execution_count": null,
      "metadata": {
        "colab": {
          "base_uri": "https://localhost:8080/"
        },
        "id": "Vp1KlMaVg9Nf",
        "outputId": "c97bf963-7ba9-43d4-c610-ed64c3c51d74"
      },
      "outputs": [
        {
          "output_type": "execute_result",
          "data": {
            "text/plain": [
              "((132, 4), (57, 4))"
            ]
          },
          "metadata": {},
          "execution_count": 49
        }
      ],
      "source": [
        "from sklearn.model_selection import train_test_split\n",
        "train_data, test_data = train_test_split(data,test_size=0.3,shuffle=True,random_state=101)\n",
        "train_data.shape, test_data.shape"
      ]
    },
    {
      "cell_type": "code",
      "source": [
        "!pip install keras_preprocessing"
      ],
      "metadata": {
        "colab": {
          "base_uri": "https://localhost:8080/"
        },
        "id": "DNKxHzDtnTLu",
        "outputId": "209d347f-3b4c-45f9-b7d2-83e759307847"
      },
      "execution_count": null,
      "outputs": [
        {
          "output_type": "stream",
          "name": "stdout",
          "text": [
            "Requirement already satisfied: keras_preprocessing in /usr/local/lib/python3.10/dist-packages (1.1.2)\n",
            "Requirement already satisfied: numpy>=1.9.1 in /usr/local/lib/python3.10/dist-packages (from keras_preprocessing) (1.25.2)\n",
            "Requirement already satisfied: six>=1.9.0 in /usr/local/lib/python3.10/dist-packages (from keras_preprocessing) (1.16.0)\n"
          ]
        }
      ]
    },
    {
      "cell_type": "code",
      "execution_count": null,
      "metadata": {
        "colab": {
          "base_uri": "https://localhost:8080/"
        },
        "id": "bMlbeimrrSkZ",
        "outputId": "493748f5-8e6b-44fc-d68d-f6515768e5c9"
      },
      "outputs": [
        {
          "output_type": "stream",
          "name": "stderr",
          "text": [
            "<ipython-input-52-3fe59a336340>:51: UserWarning: To copy construct from a tensor, it is recommended to use sourceTensor.clone().detach() or sourceTensor.clone().detach().requires_grad_(True), rather than torch.tensor(sourceTensor).\n",
            "  training_data = TensorDataset(torch.tensor(training_inputs), torch.tensor(training_masks), torch.tensor(training_labels))\n",
            "<ipython-input-52-3fe59a336340>:56: UserWarning: To copy construct from a tensor, it is recommended to use sourceTensor.clone().detach() or sourceTensor.clone().detach().requires_grad_(True), rather than torch.tensor(sourceTensor).\n",
            "  validation_data = TensorDataset(torch.tensor(validation_inputs), torch.tensor(validation_masks), torch.tensor(validation_labels))\n",
            "Some weights of BertForSequenceClassification were not initialized from the model checkpoint at bert-base-uncased and are newly initialized: ['classifier.weight', 'classifier.bias']\n",
            "You should probably TRAIN this model on a down-stream task to be able to use it for predictions and inference.\n",
            "Epoch:   2%|▏         | 1/45 [00:02<01:52,  2.57s/it]"
          ]
        },
        {
          "output_type": "stream",
          "name": "stdout",
          "text": [
            "Epoch 1: Average Training Loss: 3.271527426583426\n",
            "Epoch 1: Validation Accuracy: 0.0\n"
          ]
        },
        {
          "output_type": "stream",
          "name": "stderr",
          "text": [
            "\rEpoch:   4%|▍         | 2/45 [00:05<01:49,  2.54s/it]"
          ]
        },
        {
          "output_type": "stream",
          "name": "stdout",
          "text": [
            "Epoch 2: Average Training Loss: 3.152896983282907\n",
            "Epoch 2: Validation Accuracy: 0.1534090909090909\n"
          ]
        },
        {
          "output_type": "stream",
          "name": "stderr",
          "text": [
            "\rEpoch:   7%|▋         | 3/45 [00:07<01:46,  2.53s/it]"
          ]
        },
        {
          "output_type": "stream",
          "name": "stdout",
          "text": [
            "Epoch 3: Average Training Loss: 2.990406479154314\n",
            "Epoch 3: Validation Accuracy: 0.23011363636363635\n"
          ]
        },
        {
          "output_type": "stream",
          "name": "stderr",
          "text": [
            "\rEpoch:   9%|▉         | 4/45 [00:10<01:43,  2.52s/it]"
          ]
        },
        {
          "output_type": "stream",
          "name": "stdout",
          "text": [
            "Epoch 4: Average Training Loss: 2.7125473703656877\n",
            "Epoch 4: Validation Accuracy: 0.26136363636363635\n"
          ]
        },
        {
          "output_type": "stream",
          "name": "stderr",
          "text": [
            "\rEpoch:  11%|█         | 5/45 [00:12<01:40,  2.52s/it]"
          ]
        },
        {
          "output_type": "stream",
          "name": "stdout",
          "text": [
            "Epoch 5: Average Training Loss: 2.4243877955845425\n",
            "Epoch 5: Validation Accuracy: 0.3835227272727273\n"
          ]
        },
        {
          "output_type": "stream",
          "name": "stderr",
          "text": [
            "\rEpoch:  13%|█▎        | 6/45 [00:15<01:38,  2.52s/it]"
          ]
        },
        {
          "output_type": "stream",
          "name": "stdout",
          "text": [
            "Epoch 6: Average Training Loss: 2.1005176986966814\n",
            "Epoch 6: Validation Accuracy: 0.4005681818181818\n"
          ]
        },
        {
          "output_type": "stream",
          "name": "stderr",
          "text": [
            "\rEpoch:  16%|█▌        | 7/45 [00:17<01:35,  2.52s/it]"
          ]
        },
        {
          "output_type": "stream",
          "name": "stdout",
          "text": [
            "Epoch 7: Average Training Loss: 1.8383477585656303\n",
            "Epoch 7: Validation Accuracy: 0.4914772727272727\n"
          ]
        },
        {
          "output_type": "stream",
          "name": "stderr",
          "text": [
            "\rEpoch:  18%|█▊        | 8/45 [00:20<01:33,  2.52s/it]"
          ]
        },
        {
          "output_type": "stream",
          "name": "stdout",
          "text": [
            "Epoch 8: Average Training Loss: 1.702721152986799\n",
            "Epoch 8: Validation Accuracy: 0.4602272727272727\n"
          ]
        },
        {
          "output_type": "stream",
          "name": "stderr",
          "text": [
            "\rEpoch:  20%|██        | 9/45 [00:22<01:30,  2.52s/it]"
          ]
        },
        {
          "output_type": "stream",
          "name": "stdout",
          "text": [
            "Epoch 9: Average Training Loss: 1.409406270299639\n",
            "Epoch 9: Validation Accuracy: 0.5681818181818181\n"
          ]
        },
        {
          "output_type": "stream",
          "name": "stderr",
          "text": [
            "\rEpoch:  22%|██▏       | 10/45 [00:25<01:28,  2.52s/it]"
          ]
        },
        {
          "output_type": "stream",
          "name": "stdout",
          "text": [
            "Epoch 10: Average Training Loss: 1.2102821469306946\n",
            "Epoch 10: Validation Accuracy: 0.5994318181818181\n"
          ]
        },
        {
          "output_type": "stream",
          "name": "stderr",
          "text": [
            "\rEpoch:  24%|██▍       | 11/45 [00:27<01:25,  2.52s/it]"
          ]
        },
        {
          "output_type": "stream",
          "name": "stdout",
          "text": [
            "Epoch 11: Average Training Loss: 1.061772542340415\n",
            "Epoch 11: Validation Accuracy: 0.5994318181818181\n"
          ]
        },
        {
          "output_type": "stream",
          "name": "stderr",
          "text": [
            "\rEpoch:  27%|██▋       | 12/45 [00:30<01:23,  2.52s/it]"
          ]
        },
        {
          "output_type": "stream",
          "name": "stdout",
          "text": [
            "Epoch 12: Average Training Loss: 0.9983311380658831\n",
            "Epoch 12: Validation Accuracy: 0.6306818181818181\n"
          ]
        },
        {
          "output_type": "stream",
          "name": "stderr",
          "text": [
            "\rEpoch:  29%|██▉       | 13/45 [00:32<01:20,  2.52s/it]"
          ]
        },
        {
          "output_type": "stream",
          "name": "stdout",
          "text": [
            "Epoch 13: Average Training Loss: 0.8468811426843915\n",
            "Epoch 13: Validation Accuracy: 0.6306818181818181\n"
          ]
        },
        {
          "output_type": "stream",
          "name": "stderr",
          "text": [
            "\rEpoch:  31%|███       | 14/45 [00:35<01:18,  2.52s/it]"
          ]
        },
        {
          "output_type": "stream",
          "name": "stdout",
          "text": [
            "Epoch 14: Average Training Loss: 0.7425796730177743\n",
            "Epoch 14: Validation Accuracy: 0.6306818181818181\n"
          ]
        },
        {
          "output_type": "stream",
          "name": "stderr",
          "text": [
            "\rEpoch:  33%|███▎      | 15/45 [00:37<01:15,  2.52s/it]"
          ]
        },
        {
          "output_type": "stream",
          "name": "stdout",
          "text": [
            "Epoch 15: Average Training Loss: 0.6671349789415087\n",
            "Epoch 15: Validation Accuracy: 0.6306818181818181\n"
          ]
        },
        {
          "output_type": "stream",
          "name": "stderr",
          "text": [
            "\rEpoch:  36%|███▌      | 16/45 [00:40<01:13,  2.52s/it]"
          ]
        },
        {
          "output_type": "stream",
          "name": "stdout",
          "text": [
            "Epoch 16: Average Training Loss: 0.5509832416261945\n",
            "Epoch 16: Validation Accuracy: 0.6306818181818181\n"
          ]
        },
        {
          "output_type": "stream",
          "name": "stderr",
          "text": [
            "\rEpoch:  38%|███▊      | 17/45 [00:42<01:10,  2.52s/it]"
          ]
        },
        {
          "output_type": "stream",
          "name": "stdout",
          "text": [
            "Epoch 17: Average Training Loss: 0.44217054758753094\n",
            "Epoch 17: Validation Accuracy: 0.6306818181818181\n"
          ]
        },
        {
          "output_type": "stream",
          "name": "stderr",
          "text": [
            "\rEpoch:  40%|████      | 18/45 [00:45<01:07,  2.52s/it]"
          ]
        },
        {
          "output_type": "stream",
          "name": "stdout",
          "text": [
            "Epoch 18: Average Training Loss: 0.36975427184786114\n",
            "Epoch 18: Validation Accuracy: 0.6306818181818181\n"
          ]
        },
        {
          "output_type": "stream",
          "name": "stderr",
          "text": [
            "\rEpoch:  42%|████▏     | 19/45 [00:47<01:05,  2.52s/it]"
          ]
        },
        {
          "output_type": "stream",
          "name": "stdout",
          "text": [
            "Epoch 19: Average Training Loss: 0.339911835534232\n",
            "Epoch 19: Validation Accuracy: 0.5539772727272727\n"
          ]
        },
        {
          "output_type": "stream",
          "name": "stderr",
          "text": [
            "\rEpoch:  44%|████▍     | 20/45 [00:50<01:02,  2.52s/it]"
          ]
        },
        {
          "output_type": "stream",
          "name": "stdout",
          "text": [
            "Epoch 20: Average Training Loss: 0.36157566734722685\n",
            "Epoch 20: Validation Accuracy: 0.6619318181818181\n"
          ]
        },
        {
          "output_type": "stream",
          "name": "stderr",
          "text": [
            "\rEpoch:  47%|████▋     | 21/45 [00:52<01:00,  2.52s/it]"
          ]
        },
        {
          "output_type": "stream",
          "name": "stdout",
          "text": [
            "Epoch 21: Average Training Loss: 0.30039925021784647\n",
            "Epoch 21: Validation Accuracy: 0.6306818181818181\n"
          ]
        },
        {
          "output_type": "stream",
          "name": "stderr",
          "text": [
            "\rEpoch:  49%|████▉     | 22/45 [00:55<00:57,  2.52s/it]"
          ]
        },
        {
          "output_type": "stream",
          "name": "stdout",
          "text": [
            "Epoch 22: Average Training Loss: 0.2936969016279493\n",
            "Epoch 22: Validation Accuracy: 0.6619318181818181\n"
          ]
        },
        {
          "output_type": "stream",
          "name": "stderr",
          "text": [
            "\rEpoch:  51%|█████     | 23/45 [00:57<00:55,  2.52s/it]"
          ]
        },
        {
          "output_type": "stream",
          "name": "stdout",
          "text": [
            "Epoch 23: Average Training Loss: 0.2603860433612551\n",
            "Epoch 23: Validation Accuracy: 0.6931818181818181\n"
          ]
        },
        {
          "output_type": "stream",
          "name": "stderr",
          "text": [
            "\rEpoch:  53%|█████▎    | 24/45 [01:00<00:52,  2.52s/it]"
          ]
        },
        {
          "output_type": "stream",
          "name": "stdout",
          "text": [
            "Epoch 24: Average Training Loss: 0.23146013915538788\n",
            "Epoch 24: Validation Accuracy: 0.6931818181818181\n"
          ]
        },
        {
          "output_type": "stream",
          "name": "stderr",
          "text": [
            "\rEpoch:  56%|█████▌    | 25/45 [01:03<00:50,  2.52s/it]"
          ]
        },
        {
          "output_type": "stream",
          "name": "stdout",
          "text": [
            "Epoch 25: Average Training Loss: 0.1981701978615352\n",
            "Epoch 25: Validation Accuracy: 0.6931818181818181\n"
          ]
        },
        {
          "output_type": "stream",
          "name": "stderr",
          "text": [
            "\rEpoch:  58%|█████▊    | 26/45 [01:05<00:47,  2.52s/it]"
          ]
        },
        {
          "output_type": "stream",
          "name": "stdout",
          "text": [
            "Epoch 26: Average Training Loss: 0.19348034262657166\n",
            "Epoch 26: Validation Accuracy: 0.6619318181818181\n"
          ]
        },
        {
          "output_type": "stream",
          "name": "stderr",
          "text": [
            "\rEpoch:  60%|██████    | 27/45 [01:08<00:45,  2.52s/it]"
          ]
        },
        {
          "output_type": "stream",
          "name": "stdout",
          "text": [
            "Epoch 27: Average Training Loss: 0.16053485018866404\n",
            "Epoch 27: Validation Accuracy: 0.6619318181818181\n"
          ]
        },
        {
          "output_type": "stream",
          "name": "stderr",
          "text": [
            "\rEpoch:  62%|██████▏   | 28/45 [01:10<00:42,  2.52s/it]"
          ]
        },
        {
          "output_type": "stream",
          "name": "stdout",
          "text": [
            "Epoch 28: Average Training Loss: 0.15311053821018764\n",
            "Epoch 28: Validation Accuracy: 0.6931818181818181\n"
          ]
        },
        {
          "output_type": "stream",
          "name": "stderr",
          "text": [
            "\rEpoch:  64%|██████▍   | 29/45 [01:13<00:40,  2.52s/it]"
          ]
        },
        {
          "output_type": "stream",
          "name": "stdout",
          "text": [
            "Epoch 29: Average Training Loss: 0.18859642850501196\n",
            "Epoch 29: Validation Accuracy: 0.6931818181818181\n"
          ]
        },
        {
          "output_type": "stream",
          "name": "stderr",
          "text": [
            "\rEpoch:  67%|██████▋   | 30/45 [01:15<00:37,  2.52s/it]"
          ]
        },
        {
          "output_type": "stream",
          "name": "stdout",
          "text": [
            "Epoch 30: Average Training Loss: 0.15376414677926473\n",
            "Epoch 30: Validation Accuracy: 0.6619318181818181\n"
          ]
        },
        {
          "output_type": "stream",
          "name": "stderr",
          "text": [
            "\rEpoch:  69%|██████▉   | 31/45 [01:18<00:35,  2.52s/it]"
          ]
        },
        {
          "output_type": "stream",
          "name": "stdout",
          "text": [
            "Epoch 31: Average Training Loss: 0.12774218831743514\n",
            "Epoch 31: Validation Accuracy: 0.6164772727272727\n"
          ]
        },
        {
          "output_type": "stream",
          "name": "stderr",
          "text": [
            "\rEpoch:  71%|███████   | 32/45 [01:20<00:32,  2.52s/it]"
          ]
        },
        {
          "output_type": "stream",
          "name": "stdout",
          "text": [
            "Epoch 32: Average Training Loss: 0.18779953036989486\n",
            "Epoch 32: Validation Accuracy: 0.6164772727272727\n"
          ]
        },
        {
          "output_type": "stream",
          "name": "stderr",
          "text": [
            "\rEpoch:  73%|███████▎  | 33/45 [01:23<00:30,  2.52s/it]"
          ]
        },
        {
          "output_type": "stream",
          "name": "stdout",
          "text": [
            "Epoch 33: Average Training Loss: 0.1197096545781408\n",
            "Epoch 33: Validation Accuracy: 0.6931818181818181\n"
          ]
        },
        {
          "output_type": "stream",
          "name": "stderr",
          "text": [
            "\rEpoch:  76%|███████▌  | 34/45 [01:25<00:27,  2.52s/it]"
          ]
        },
        {
          "output_type": "stream",
          "name": "stdout",
          "text": [
            "Epoch 34: Average Training Loss: 0.20718219982726233\n",
            "Epoch 34: Validation Accuracy: 0.7386363636363636\n"
          ]
        },
        {
          "output_type": "stream",
          "name": "stderr",
          "text": [
            "\rEpoch:  78%|███████▊  | 35/45 [01:28<00:25,  2.52s/it]"
          ]
        },
        {
          "output_type": "stream",
          "name": "stdout",
          "text": [
            "Epoch 35: Average Training Loss: 0.1136281665946756\n",
            "Epoch 35: Validation Accuracy: 0.6619318181818181\n"
          ]
        },
        {
          "output_type": "stream",
          "name": "stderr",
          "text": [
            "\rEpoch:  80%|████████  | 36/45 [01:30<00:22,  2.52s/it]"
          ]
        },
        {
          "output_type": "stream",
          "name": "stdout",
          "text": [
            "Epoch 36: Average Training Loss: 0.10773470891373498\n",
            "Epoch 36: Validation Accuracy: 0.6931818181818181\n"
          ]
        },
        {
          "output_type": "stream",
          "name": "stderr",
          "text": [
            "\rEpoch:  82%|████████▏ | 37/45 [01:33<00:20,  2.52s/it]"
          ]
        },
        {
          "output_type": "stream",
          "name": "stdout",
          "text": [
            "Epoch 37: Average Training Loss: 0.08921535526003156\n",
            "Epoch 37: Validation Accuracy: 0.7386363636363636\n"
          ]
        },
        {
          "output_type": "stream",
          "name": "stderr",
          "text": [
            "\rEpoch:  84%|████████▍ | 38/45 [01:35<00:17,  2.52s/it]"
          ]
        },
        {
          "output_type": "stream",
          "name": "stdout",
          "text": [
            "Epoch 38: Average Training Loss: 0.08686777097838265\n",
            "Epoch 38: Validation Accuracy: 0.7698863636363636\n"
          ]
        },
        {
          "output_type": "stream",
          "name": "stderr",
          "text": [
            "\rEpoch:  87%|████████▋ | 39/45 [01:38<00:15,  2.52s/it]"
          ]
        },
        {
          "output_type": "stream",
          "name": "stdout",
          "text": [
            "Epoch 39: Average Training Loss: 0.08233426777379853\n",
            "Epoch 39: Validation Accuracy: 0.8011363636363636\n"
          ]
        },
        {
          "output_type": "stream",
          "name": "stderr",
          "text": [
            "\rEpoch:  89%|████████▉ | 40/45 [01:40<00:12,  2.52s/it]"
          ]
        },
        {
          "output_type": "stream",
          "name": "stdout",
          "text": [
            "Epoch 40: Average Training Loss: 0.07923801402960505\n",
            "Epoch 40: Validation Accuracy: 0.8011363636363636\n"
          ]
        },
        {
          "output_type": "stream",
          "name": "stderr",
          "text": [
            "\rEpoch:  91%|█████████ | 41/45 [01:43<00:10,  2.52s/it]"
          ]
        },
        {
          "output_type": "stream",
          "name": "stdout",
          "text": [
            "Epoch 41: Average Training Loss: 0.08137355957712446\n",
            "Epoch 41: Validation Accuracy: 0.8011363636363636\n"
          ]
        },
        {
          "output_type": "stream",
          "name": "stderr",
          "text": [
            "\rEpoch:  93%|█████████▎| 42/45 [01:45<00:07,  2.52s/it]"
          ]
        },
        {
          "output_type": "stream",
          "name": "stdout",
          "text": [
            "Epoch 42: Average Training Loss: 0.07121420172708375\n",
            "Epoch 42: Validation Accuracy: 0.8011363636363636\n"
          ]
        },
        {
          "output_type": "stream",
          "name": "stderr",
          "text": [
            "\rEpoch:  96%|█████████▌| 43/45 [01:48<00:05,  2.52s/it]"
          ]
        },
        {
          "output_type": "stream",
          "name": "stdout",
          "text": [
            "Epoch 43: Average Training Loss: 0.07230012491345406\n",
            "Epoch 43: Validation Accuracy: 0.8011363636363636\n"
          ]
        },
        {
          "output_type": "stream",
          "name": "stderr",
          "text": [
            "\rEpoch:  98%|█████████▊| 44/45 [01:50<00:02,  2.52s/it]"
          ]
        },
        {
          "output_type": "stream",
          "name": "stdout",
          "text": [
            "Epoch 44: Average Training Loss: 0.06533278524875641\n",
            "Epoch 44: Validation Accuracy: 0.8011363636363636\n",
            "Epoch 45: Average Training Loss: 0.06131036366735186\n"
          ]
        },
        {
          "output_type": "stream",
          "name": "stderr",
          "text": [
            "Epoch: 100%|██████████| 45/45 [01:53<00:00,  2.52s/it]"
          ]
        },
        {
          "output_type": "stream",
          "name": "stdout",
          "text": [
            "Epoch 45: Validation Accuracy: 0.8011363636363636\n"
          ]
        },
        {
          "output_type": "stream",
          "name": "stderr",
          "text": [
            "\n"
          ]
        },
        {
          "output_type": "stream",
          "name": "stdout",
          "text": [
            "Batch 1: MCC = 1.0\n",
            "Batch 2: MCC = 1.0\n",
            "Batch 3: MCC = 1.0\n",
            "Batch 4: MCC = 0.9347826086956522\n",
            "Batch 5: MCC = 0.9345067267136572\n",
            "Batch 6: MCC = 0.9336283185840708\n",
            "Batch 7: MCC = 0.8712526594399564\n",
            "Batch 8: MCC = 1.0\n",
            "Batch 9: MCC = 1.0\n",
            "\n",
            "Overall MCC: 0.9637967014925929\n"
          ]
        }
      ],
      "source": [
        "import numpy\n",
        "import pandas\n",
        "try:\n",
        "    import torch\n",
        "except:\n",
        "    !pip -qq install torch\n",
        "\n",
        "import torch.nn as nn\n",
        "\n",
        "try:\n",
        "    import transformers\n",
        "except:\n",
        "    !pip -qq install transformers\n",
        "\n",
        "device = torch.device(\"cuda\" if torch.cuda.is_available() else \"cpu\")\n",
        "\n",
        "import os\n",
        "\n",
        "# Prepare sentences and labels\n",
        "sentences = train_data['cleaned text'].values\n",
        "sentences = [\"[CLS] \" + sentence + \" [SEP]\" for sentence in sentences]\n",
        "labels = train_data['labels'].values\n",
        "labels = torch.tensor(labels, dtype=torch.long)\n",
        "\n",
        "# Tokenize sentences using BERT tokenizer\n",
        "from transformers import BertTokenizer\n",
        "tokenizer = BertTokenizer.from_pretrained('bert-base-uncased', do_lower_case=True)\n",
        "tokenized_texts = [tokenizer.tokenize(sent) for sent in sentences]\n",
        "\n",
        "# Pad sequences and create attention masks\n",
        "from keras_preprocessing.sequence import pad_sequences\n",
        "MAX_LEN = 512\n",
        "input_ids = [tokenizer.convert_tokens_to_ids(x) for x in tokenized_texts]\n",
        "input_ids = pad_sequences(input_ids, maxlen=MAX_LEN, dtype=\"long\", truncating=\"post\", padding=\"post\")\n",
        "\n",
        "attention_masks = []\n",
        "for sequence in input_ids:\n",
        "\n",
        "    sequence_mask = [float(id > 0) for id in sequence]\n",
        "    attention_masks.append(sequence_mask)\n",
        "\n",
        "# Split data into training and validation sets\n",
        "from sklearn.model_selection import train_test_split\n",
        "training_inputs, validation_inputs, training_labels, validation_labels, training_masks, validation_masks = train_test_split(\n",
        "    input_ids, labels, attention_masks,\n",
        "    random_state=2018, test_size=0.2)\n",
        "\n",
        "# Create DataLoader for training set\n",
        "from torch.utils.data import TensorDataset, DataLoader, RandomSampler, SequentialSampler\n",
        "batch_size = 16\n",
        "training_data = TensorDataset(torch.tensor(training_inputs), torch.tensor(training_masks), torch.tensor(training_labels))\n",
        "training_sampler = RandomSampler(training_data)\n",
        "training_dataloader = DataLoader(training_data, sampler=training_sampler, batch_size=batch_size)\n",
        "\n",
        "# Create DataLoader for validation set\n",
        "validation_data = TensorDataset(torch.tensor(validation_inputs), torch.tensor(validation_masks), torch.tensor(validation_labels))\n",
        "validation_sampler = SequentialSampler(validation_data)\n",
        "validation_dataloader = DataLoader(validation_data, sampler=validation_sampler, batch_size=batch_size)\n",
        "\n",
        "# Configure BERT model for sequence classification\n",
        "from transformers import BertConfig, BertModel\n",
        "configuration = BertConfig()\n",
        "model = BertModel(configuration)\n",
        "configuration = model.config\n",
        "\n",
        "from transformers import BertForSequenceClassification\n",
        "model = BertForSequenceClassification.from_pretrained(\"bert-base-uncased\", num_labels=25)\n",
        "model = nn.DataParallel(model)\n",
        "model.to(device)\n",
        "\n",
        "from transformers import AdamW\n",
        "param_optimizer = list(model.named_parameters())\n",
        "no_decay = ['bias', 'LayerNorm.weight']\n",
        "optimizer_grouped_parameters = [\n",
        "    {'params': [p for n, p in param_optimizer if not any(nd in n for nd in no_decay)], 'weight_decay': 0.01},\n",
        "    {'params': [p for n, p in param_optimizer if any(nd in n for nd in no_decay)], 'weight_decay': 0.0}\n",
        "]\n",
        "optimizer = AdamW(optimizer_grouped_parameters, lr=2e-5, betas=(0.92, 0.999) ,eps=1e-08, weight_decay=0.01, correct_bias=False, no_deprecation_warning=True)\n",
        "\n",
        "def flat_accuracy(predicted_labels, labels):\n",
        "    predicted_labels = numpy.argmax(predicted_labels.to('cpu').numpy(), axis=1).flatten()\n",
        "    labels = labels.to('cpu').numpy().flatten()\n",
        "    return numpy.sum(predicted_labels == labels) / len(labels)\n",
        "\n",
        "# Train the BERT model\n",
        "from tqdm import trange\n",
        "epochs = 45\n",
        "training_losses=[]\n",
        "validation_accuracies=[]\n",
        "\n",
        "from torch.optim.lr_scheduler import LambdaLR\n",
        "\n",
        "# Define a lambda function for learning rate scheduling\n",
        "lr_lambda = lambda epoch: 0.9 ** epoch\n",
        "\n",
        "# Create the LambdaLR scheduler\n",
        "scheduler = LambdaLR(optimizer, lr_lambda=lr_lambda)\n",
        "\n",
        "\n",
        "for epoch in trange(epochs, desc=\"Epoch\"):\n",
        "    model.train()\n",
        "    training_loss = 0\n",
        "    training_steps = 0\n",
        "\n",
        "    for step, batch in enumerate(training_dataloader):\n",
        "        inputs = batch[0].to(device)\n",
        "        attention_masks = batch[1].to(device)\n",
        "        labels = batch[2].to(device)\n",
        "\n",
        "        optimizer.zero_grad()\n",
        "        outputs = model(inputs, attention_mask=attention_masks, labels=labels)\n",
        "        loss = outputs.loss\n",
        "        loss.backward()\n",
        "        optimizer.step()\n",
        "\n",
        "        training_loss += loss.item()\n",
        "        training_steps += 1\n",
        "\n",
        "        training_losses.append(loss.item())\n",
        "\n",
        "    average_training_loss = training_loss/training_steps\n",
        "    print(\"Epoch {}: Average Training Loss: {}\".format(epoch+1, average_training_loss))\n",
        "\n",
        "    model.eval()\n",
        "    validation_accuracy = 0\n",
        "    validation_steps = 0\n",
        "\n",
        "    for batch in validation_dataloader:\n",
        "        inputs = batch[0].to(device)\n",
        "        attention_masks = batch[1].to(device)\n",
        "        labels = batch[2].to(device)\n",
        "\n",
        "        with torch.no_grad():\n",
        "            outputs = model(inputs, attention_mask=attention_masks, labels=labels)\n",
        "\n",
        "        logits = outputs.logits\n",
        "        temp_validation_accuracy = flat_accuracy(logits, labels)\n",
        "        validation_accuracy += temp_validation_accuracy\n",
        "        validation_steps += 1\n",
        "\n",
        "    average_validation_accuracy = validation_accuracy/validation_steps\n",
        "    validation_accuracies.append(average_validation_accuracy)\n",
        "    print(\"Epoch {}: Validation Accuracy: {}\".format(epoch+1, average_validation_accuracy))\n",
        "\n",
        "sentences = train_data['cleaned text'].values\n",
        "sentences = [\"[CLS] \" + sentence + \" [SEP]\" for sentence in sentences]\n",
        "labels = train_data['labels'].values\n",
        "\n",
        "tokenized_texts = [tokenizer.tokenize(sent) for sent in sentences]\n",
        "\n",
        "input_ids = [tokenizer.convert_tokens_to_ids(tokens) for tokens in tokenized_texts]\n",
        "input_ids = pad_sequences(input_ids, maxlen=MAX_LEN, dtype=\"long\", truncating=\"post\", padding=\"post\")\n",
        "\n",
        "attention_masks = [[float(i > 0) for i in seq] for seq in input_ids]\n",
        "\n",
        "input_ids = torch.tensor(input_ids)\n",
        "attention_masks = torch.tensor(attention_masks)\n",
        "labels = torch.tensor(labels)\n",
        "\n",
        "prediction_data = TensorDataset(input_ids, attention_masks, labels)\n",
        "prediction_dataloader = DataLoader(prediction_data, batch_size=batch_size)\n",
        "\n",
        "model.eval()\n",
        "logits_set = []\n",
        "labels_set = []\n",
        "\n",
        "for batch in prediction_dataloader:\n",
        "    batch_input_ids, batch_attention_masks, batch_labels = batch\n",
        "    batch_input_ids, batch_attention_masks, batch_labels = batch_input_ids.to(device), batch_attention_masks.to(device), batch_labels.to(device)\n",
        "\n",
        "    with torch.no_grad():\n",
        "        outputs = model(batch_input_ids, attention_mask=batch_attention_masks)\n",
        "        logits = outputs.logits\n",
        "\n",
        "    logits_set.append(logits.cpu().numpy())\n",
        "    labels_set.append(batch_labels.cpu().numpy())\n",
        "\n",
        "from sklearn.metrics import matthews_corrcoef\n",
        "matthews_set = []\n",
        "\n",
        "# Calculate Matthews correlation coefficient for each batch\n",
        "for i in range(len(labels_set)):\n",
        "    mcc = matthews_corrcoef(labels_set[i], numpy.argmax(logits_set[i], axis=1).flatten())\n",
        "    matthews_set.append(mcc)\n",
        "\n",
        "for i, mcc in enumerate(matthews_set):\n",
        "    print(f\"Batch {i + 1}: MCC = {mcc}\")\n",
        "\n",
        "# Calculate the overall Matthews correlation coefficient\n",
        "overall_mcc = numpy.mean(matthews_set)\n",
        "print(f\"\\nOverall MCC: {overall_mcc}\")"
      ]
    },
    {
      "cell_type": "code",
      "source": [
        "# Plot training and validation curves\n",
        "plt.figure(figsize=(12, 6))\n",
        "\n",
        "# Plot training loss\n",
        "plt.subplot(1, 2, 1)\n",
        "plt.plot(training_losses, label='Training Loss')\n",
        "plt.xlabel('Steps')\n",
        "plt.ylabel('Loss')\n",
        "plt.title('Training Loss')\n",
        "\n",
        "# Plot validation accuracy\n",
        "plt.subplot(1, 2, 2)\n",
        "plt.plot(validation_accuracies, label='Validation Accuracy')\n",
        "plt.xlabel('Epoch')\n",
        "plt.ylabel('Accuracy')\n",
        "plt.title('Validation Accuracy')\n",
        "\n",
        "plt.show()"
      ],
      "metadata": {
        "id": "OxG4k0gtkWbA",
        "colab": {
          "base_uri": "https://localhost:8080/",
          "height": 474
        },
        "outputId": "68129ba8-e172-4663-bf13-28962c23a8cb"
      },
      "execution_count": null,
      "outputs": [
        {
          "output_type": "display_data",
          "data": {
            "text/plain": [
              "<Figure size 1200x600 with 2 Axes>"
            ],
            "image/png": "[encoded data removed]"
          },
          "metadata": {}
        }
      ]
    },
    {
      "cell_type": "code",
      "source": [
        "#though the training loss and validation accuracy graphs are generally not smooth, it could be attributed to the small data size\n",
        "#and the training loss has a decent slope"
      ],
      "metadata": {
        "id": "mAIMsx8gIDV2"
      },
      "execution_count": null,
      "outputs": []
    },
    {
      "cell_type": "markdown",
      "source": [
        "# Optimization"
      ],
      "metadata": {
        "id": "1MZebReg95bA"
      }
    },
    {
      "cell_type": "code",
      "source": [
        "avg_length = sum([len(text.split()) for text in data[\"cleaned text\"]]) / len(data[\"cleaned text\"])\n",
        "avg_length"
      ],
      "metadata": {
        "colab": {
          "base_uri": "https://localhost:8080/"
        },
        "id": "2PVGHmHgAdgn",
        "outputId": "d3720111-9581-4bfd-c82f-a0c4a7514f72"
      },
      "execution_count": null,
      "outputs": [
        {
          "output_type": "execute_result",
          "data": {
            "text/plain": [
              "255.55026455026456"
            ]
          },
          "metadata": {},
          "execution_count": 187
        }
      ]
    },
    {
      "cell_type": "code",
      "source": [
        "import torch\n",
        "from transformers import DistilBertTokenizer, DistilBertForSequenceClassification\n",
        "from sklearn.model_selection import train_test_split\n",
        "from sklearn.metrics import classification_report"
      ],
      "metadata": {
        "id": "ER-gFViiHRVV"
      },
      "execution_count": null,
      "outputs": []
    },
    {
      "cell_type": "code",
      "source": [
        "X_train, X_test, y_train, y_test = train_test_split(data['cleaned text'], data['labels'], test_size=0.2, random_state=42)"
      ],
      "metadata": {
        "id": "i5f9383OHSYu"
      },
      "execution_count": null,
      "outputs": []
    },
    {
      "cell_type": "code",
      "source": [
        "tokenizer = DistilBertTokenizer.from_pretrained('distilbert-base-uncased')\n",
        "X_train_tokenized = tokenizer(X_train.tolist(), padding=True, truncation=True, max_length=512, return_tensors=\"pt\")\n",
        "X_test_tokenized = tokenizer(X_test.tolist(), padding=True, truncation=True, max_length=512, return_tensors=\"pt\")"
      ],
      "metadata": {
        "id": "hXYKKcxyHV3O"
      },
      "execution_count": null,
      "outputs": []
    },
    {
      "cell_type": "code",
      "source": [
        "modeldis = DistilBertForSequenceClassification.from_pretrained('distilbert-base-uncased', num_labels=25)"
      ],
      "metadata": {
        "colab": {
          "base_uri": "https://localhost:8080/"
        },
        "id": "N6XhcrqLHXW_",
        "outputId": "2d0d0303-ed63-498e-c47e-cf249133b7fa"
      },
      "execution_count": null,
      "outputs": [
        {
          "output_type": "stream",
          "name": "stderr",
          "text": [
            "Some weights of DistilBertForSequenceClassification were not initialized from the model checkpoint at distilbert-base-uncased and are newly initialized: ['pre_classifier.weight', 'classifier.weight', 'pre_classifier.bias', 'classifier.bias']\n",
            "You should probably TRAIN this model on a down-stream task to be able to use it for predictions and inference.\n"
          ]
        }
      ]
    },
    {
      "cell_type": "code",
      "source": [
        "import torch\n",
        "from transformers import DistilBertTokenizer, DistilBertForSequenceClassification, AdamW\n",
        "from sklearn.model_selection import train_test_split\n",
        "from sklearn.metrics import accuracy_score\n",
        "from torch.utils.data import DataLoader\n",
        "\n",
        "# Load your dataset\n",
        "# Make sure to have X_train, X_test, y_train, y_test\n",
        "X_train, X_test, y_train, y_test = train_test_split(data['cleaned text'], data['labels'], test_size=0.2, random_state=42)\n",
        "\n",
        "# Define hyperparameters\n",
        "batch_size = 16\n",
        "max_length = 512\n",
        "learning_rate = 2e-5\n",
        "num_epochs = 30\n",
        "\n",
        "# Initialize the DistilBERT tokenizer and model\n",
        "tokenizer = DistilBertTokenizer.from_pretrained('distilbert-base-uncased')\n",
        "model = DistilBertForSequenceClassification.from_pretrained('distilbert-base-uncased', num_labels=25)\n",
        "\n",
        "# Tokenize and prepare the input data\n",
        "X_train_tokenized = tokenizer(X_train.tolist(), padding='max_length', truncation=True, max_length=max_length, return_tensors='pt')\n",
        "X_test_tokenized = tokenizer(X_test.tolist(), padding='max_length', truncation=True, max_length=max_length, return_tensors='pt')\n",
        "\n",
        "# Convert labels to tensors\n",
        "y_train_tensor = torch.tensor(y_train.tolist(), dtype=torch.long)  # Convert pandas Series to Python list\n",
        "y_test_tensor = torch.tensor(y_test.tolist(), dtype=torch.long)\n",
        "\n",
        "# Prepare PyTorch DataLoader\n",
        "train_dataset = torch.utils.data.TensorDataset(X_train_tokenized['input_ids'],\n",
        "                                                X_train_tokenized['attention_mask'],\n",
        "                                                y_train_tensor)\n",
        "test_dataset = torch.utils.data.TensorDataset(X_test_tokenized['input_ids'],\n",
        "                                               X_test_tokenized['attention_mask'],\n",
        "                                               y_test_tensor)\n",
        "train_loader = DataLoader(train_dataset, batch_size=batch_size, shuffle=True)\n",
        "test_loader = DataLoader(test_dataset, batch_size=batch_size, shuffle=False)\n",
        "\n",
        "# Initialize optimizer and loss function\n",
        "optimizer = AdamW(model.parameters(), lr=learning_rate)\n",
        "criterion = torch.nn.CrossEntropyLoss()\n",
        "\n",
        "# Training loop\n",
        "for epoch in range(num_epochs):\n",
        "    model.train()\n",
        "    running_loss = 0.0\n",
        "    for batch in train_loader:\n",
        "        input_ids, attention_mask, labels = batch\n",
        "        optimizer.zero_grad()\n",
        "        outputs = model(input_ids=input_ids, attention_mask=attention_mask, labels=labels)\n",
        "        loss = outputs.loss\n",
        "        loss.backward()\n",
        "        optimizer.step()\n",
        "        running_loss += loss.item()\n",
        "\n",
        "    print(f\"Epoch {epoch+1} - Training loss: {running_loss / len(train_loader)}\")\n",
        "\n",
        "# Evaluation\n",
        "model.eval()\n",
        "predictions = []\n",
        "true_labels = []\n",
        "with torch.no_grad():\n",
        "    for batch in test_loader:\n",
        "        input_ids, attention_mask, labels = batch\n",
        "        outputs = model(input_ids=input_ids, attention_mask=attention_mask)\n",
        "        logits = outputs.logits\n",
        "        _, predicted = torch.max(logits, dim=1)\n",
        "        predictions.extend(predicted.tolist())\n",
        "        true_labels.extend(labels.tolist())\n",
        "\n",
        "accuracy = accuracy_score(true_labels, predictions)\n",
        "print(f\"Accuracy on test set: {accuracy}\")\n"
      ],
      "metadata": {
        "colab": {
          "base_uri": "https://localhost:8080/"
        },
        "id": "NUIIqma7HcOi",
        "outputId": "0848031c-5a57-4a4b-d28f-5e52f3f065ec"
      },
      "execution_count": null,
      "outputs": [
        {
          "output_type": "stream",
          "name": "stderr",
          "text": [
            "Some weights of DistilBertForSequenceClassification were not initialized from the model checkpoint at distilbert-base-uncased and are newly initialized: ['pre_classifier.weight', 'classifier.weight', 'pre_classifier.bias', 'classifier.bias']\n",
            "You should probably TRAIN this model on a down-stream task to be able to use it for predictions and inference.\n",
            "/usr/local/lib/python3.10/dist-packages/transformers/optimization.py:411: FutureWarning: This implementation of AdamW is deprecated and will be removed in a future version. Use the PyTorch implementation torch.optim.AdamW instead, or set `no_deprecation_warning=True` to disable this warning\n",
            "  Decoupled weight decay to apply.\n"
          ]
        },
        {
          "output_type": "stream",
          "name": "stdout",
          "text": [
            "Epoch 1 - Training loss: 3.2183164834976195\n",
            "Epoch 2 - Training loss: 3.166152596473694\n",
            "Epoch 3 - Training loss: 3.0997549533843993\n",
            "Epoch 4 - Training loss: 3.0221349477767943\n",
            "Epoch 5 - Training loss: 2.940482234954834\n",
            "Epoch 6 - Training loss: 2.789352631568909\n",
            "Epoch 7 - Training loss: 2.6606921195983886\n",
            "Epoch 8 - Training loss: 2.4834368228912354\n",
            "Epoch 9 - Training loss: 2.3253244400024413\n",
            "Epoch 10 - Training loss: 2.1379693150520325\n",
            "Epoch 11 - Training loss: 1.9600104212760925\n",
            "Epoch 12 - Training loss: 1.7830199480056763\n",
            "Epoch 13 - Training loss: 1.608726155757904\n",
            "Epoch 14 - Training loss: 1.44158074259758\n",
            "Epoch 15 - Training loss: 1.3054939746856689\n",
            "Epoch 16 - Training loss: 1.17757528424263\n",
            "Epoch 17 - Training loss: 1.0253428161144256\n",
            "Epoch 18 - Training loss: 0.9345285713672637\n",
            "Epoch 19 - Training loss: 0.8038994431495666\n",
            "Epoch 20 - Training loss: 0.7461969375610351\n",
            "Epoch 21 - Training loss: 0.634923192858696\n",
            "Epoch 22 - Training loss: 0.5802611678838729\n",
            "Epoch 23 - Training loss: 0.5460551798343658\n",
            "Epoch 24 - Training loss: 0.4684937626123428\n",
            "Epoch 25 - Training loss: 0.42886466085910796\n",
            "Epoch 26 - Training loss: 0.3890563666820526\n",
            "Epoch 27 - Training loss: 0.36070193648338317\n",
            "Epoch 28 - Training loss: 0.3262138843536377\n",
            "Epoch 29 - Training loss: 0.2943283632397652\n",
            "Epoch 30 - Training loss: 0.2760926976799965\n",
            "Accuracy on test set: 0.9473684210526315\n"
          ]
        }
      ]
    },
    {
      "cell_type": "code",
      "source": [
        "#DistilBERT is a distilled version of the original BERT model,\n",
        "#meaning it's smaller and faster while retaining much of the performance.\n",
        "#This makes it more efficient for training and inference, especially when computational resources are limited.\n",
        "#the model generalizes better to new, unseen data, which is particularly useful when working with small datasets"
      ],
      "metadata": {
        "id": "EUcEUfkfRUOG"
      },
      "execution_count": null,
      "outputs": []
    },
    {
      "cell_type": "markdown",
      "source": [
        "#Resume classification"
      ],
      "metadata": {
        "id": "Gqa-_MmPH-w4"
      }
    },
    {
      "cell_type": "markdown",
      "source": [
        "prediction with BERT"
      ],
      "metadata": {
        "id": "VyFIwjm5TGLd"
      }
    },
    {
      "cell_type": "code",
      "source": [
        "sentences = test_data['cleaned text'].values\n",
        "sentences = [\"[CLS] \" + sentence + \" [SEP]\" for sentence in sentences]\n",
        "labels = test_data['labels'].values\n",
        "labels = torch.tensor(labels, dtype=torch.long)\n",
        "\n",
        "tokenized_texts = [tokenizer.tokenize(sent) for sent in sentences]\n",
        "\n",
        "input_ids = [tokenizer.convert_tokens_to_ids(tokens) for tokens in tokenized_texts]\n",
        "input_ids = pad_sequences(input_ids, maxlen=MAX_LEN, dtype=\"long\", truncating=\"post\", padding=\"post\")\n",
        "\n",
        "attention_masks = [[float(i > 0) for i in seq] for seq in input_ids]\n",
        "\n",
        "input_ids = torch.tensor(input_ids)\n",
        "attention_masks = torch.tensor(attention_masks)\n",
        "labels = torch.tensor(labels)\n",
        "\n",
        "prediction_data = TensorDataset(input_ids, attention_masks, labels)\n",
        "prediction_dataloader = DataLoader(prediction_data, batch_size=batch_size)\n",
        "\n",
        "# Evaluate the BERT model on the out-of-domain dataset\n",
        "model.eval()\n",
        "logits_set = []\n",
        "labels_set = []\n",
        "\n",
        "for batch in prediction_dataloader:\n",
        "    batch_input_ids, batch_attention_masks, batch_labels = batch\n",
        "    batch_input_ids, batch_attention_masks, batch_labels = batch_input_ids.to(device), batch_attention_masks.to(device), batch_labels.to(device)\n",
        "\n",
        "    with torch.no_grad():\n",
        "        outputs = model(batch_input_ids, attention_mask=batch_attention_masks)\n",
        "        logits = outputs.logits\n",
        "\n",
        "    logits_set.append(logits.cpu().numpy())\n",
        "    labels_set.append(batch_labels.cpu().numpy())\n",
        "\n",
        "matthews_set = []\n",
        "\n",
        "# Calculate Matthews correlation coefficient for each batch\n",
        "for i in range(len(labels_set)):\n",
        "    mcc = matthews_corrcoef(labels_set[i], numpy.argmax(logits_set[i], axis=1).flatten())\n",
        "    matthews_set.append(mcc)\n",
        "\n",
        "for i, mcc in enumerate(matthews_set):\n",
        "    print(f\"Batch {i + 1}: MCC = {mcc}\")\n",
        "\n",
        "# Calculate the overall Matthews correlation coefficient\n",
        "overall_mcc = numpy.mean(matthews_set)\n",
        "print(f\"\\nOverall MCC: {overall_mcc}\")"
      ],
      "metadata": {
        "colab": {
          "base_uri": "https://localhost:8080/"
        },
        "id": "jYTmi-937y8a",
        "outputId": "57b98c5b-3cb9-4631-db40-7e4c945001b0"
      },
      "execution_count": null,
      "outputs": [
        {
          "output_type": "stream",
          "name": "stderr",
          "text": [
            "<ipython-input-65-337d770cc466>:15: UserWarning: To copy construct from a tensor, it is recommended to use sourceTensor.clone().detach() or sourceTensor.clone().detach().requires_grad_(True), rather than torch.tensor(sourceTensor).\n",
            "  labels = torch.tensor(labels)\n"
          ]
        },
        {
          "output_type": "stream",
          "name": "stdout",
          "text": [
            "Batch 1: MCC = 0.5478260869565217\n",
            "Batch 2: MCC = 0.6823014005184405\n",
            "Batch 3: MCC = 0.7489247664799692\n",
            "Batch 4: MCC = 0.7650368522374495\n",
            "\n",
            "Overall MCC: 0.6860222765480952\n"
          ]
        }
      ]
    },
    {
      "cell_type": "code",
      "source": [
        "#testing with val dataset\n",
        "import numpy as np\n",
        "from transformers import BertTokenizer\n",
        "from keras.preprocessing.sequence import pad_sequences\n",
        "\n",
        "model.eval()\n",
        "\n",
        "sentences =test_data['cleaned text'].values[:10].tolist()\n",
        "sentences = [\"[CLS] \" + sentence + \" [SEP]\" for sentence in sentences]\n",
        "\n",
        "from transformers import BertTokenizer\n",
        "tokenizer = BertTokenizer.from_pretrained('bert-base-uncased', do_lower_case=True)\n",
        "tokenized_texts = [tokenizer.tokenize(sent) for sent in sentences]\n",
        "\n",
        "from keras_preprocessing.sequence import pad_sequences\n",
        "MAX_LEN = 512\n",
        "input_ids = [tokenizer.convert_tokens_to_ids(x) for x in tokenized_texts]\n",
        "input_ids = pad_sequences(input_ids, maxlen=MAX_LEN, dtype=\"long\", truncating=\"post\", padding=\"post\")\n",
        "\n",
        "attention_masks = []\n",
        "for sequence in input_ids:\n",
        "    sequence_mask = [float(id > 0) for id in sequence]\n",
        "    attention_masks.append(sequence_mask)\n",
        "\n",
        "input_ids = torch.tensor(input_ids).to(device)\n",
        "attention_masks = torch.tensor(attention_masks).to(device)\n",
        "\n",
        "# Perform inference\n",
        "with torch.no_grad():\n",
        "    outputs = model(input_ids, attention_mask=attention_masks)\n",
        "    logits = outputs.logits\n",
        "\n",
        "# Optionally, apply a softmax function to convert logits into probabilities\n",
        "probabilities = nn.functional.softmax(logits, dim=1)\n",
        "\n",
        "# Collect the predicted label or probability\n",
        "predicted_label = torch.argmax(probabilities, dim=1).tolist()\n",
        "# Or, if you want to collect probabilities, use: predicted_probability = probabilities[:, 1].item()\n",
        "\n",
        "# Print the predicted probability\n",
        "predicted_probability = probabilities[:, 1].tolist()\n",
        "print(f\"Predicted Labels:\\t{predicted_label}\\nActual Labels:\\t\\t{test_data['labels'].head(10).tolist()}\\n\\nPredicted Probability:\\t{predicted_probability}\")"
      ],
      "metadata": {
        "colab": {
          "base_uri": "https://localhost:8080/"
        },
        "id": "LGMF712hikqC",
        "outputId": "5adeefa8-d694-473d-b5d5-815d9adce0c5"
      },
      "execution_count": null,
      "outputs": [
        {
          "output_type": "stream",
          "name": "stdout",
          "text": [
            "Predicted Labels:\t[5, 9, 12, 2, 12, 2, 15, 6, 17, 1]\n",
            "Actual Labels:\t\t[5, 9, 12, 2, 24, 2, 15, 3, 17, 14]\n",
            "\n",
            "Predicted Probability:\t[0.0007121553062461317, 0.0005489079630933702, 0.003162616631016135, 0.0026868758723139763, 0.0020770395640283823, 0.0022969981655478477, 0.002876691520214081, 0.16325867176055908, 0.011693322099745274, 0.427080363035202]\n"
          ]
        }
      ]
    },
    {
      "cell_type": "markdown",
      "source": [
        "classified 7/10 correctly"
      ],
      "metadata": {
        "id": "92iQUXhjopZK"
      }
    },
    {
      "cell_type": "code",
      "source": [
        "#predict random sentence\n",
        "model.eval()\n",
        "\n",
        "sentences = [\"matplotlib java mumbai Chennai Services TECHNOLOGY work many years exprience\",\"professional webdriver\",\"C R skilled i want to be professional artist\",\"C R matplotlib python highly skilled i want to be professional artist\"]\n",
        "sentences = [\"[CLS] \" + sentence + \" [SEP]\" for sentence in sentences]\n",
        "\n",
        "from transformers import BertTokenizer\n",
        "tokenizer = BertTokenizer.from_pretrained('bert-base-uncased', do_lower_case=True)\n",
        "tokenized_texts = [tokenizer.tokenize(sent) for sent in sentences]\n",
        "\n",
        "from keras_preprocessing.sequence import pad_sequences\n",
        "MAX_LEN = 512\n",
        "input_ids = [tokenizer.convert_tokens_to_ids(x) for x in tokenized_texts]\n",
        "input_ids = pad_sequences(input_ids, maxlen=MAX_LEN, dtype=\"long\", truncating=\"post\", padding=\"post\")\n",
        "\n",
        "attention_masks = []\n",
        "for sequence in input_ids:\n",
        "    sequence_mask = [float(id > 0) for id in sequence]\n",
        "    attention_masks.append(sequence_mask)\n",
        "\n",
        "input_ids = torch.tensor(input_ids).to(device)\n",
        "attention_masks = torch.tensor(attention_masks).to(device)\n",
        "\n",
        "# Perform inference\n",
        "with torch.no_grad():\n",
        "    outputs = model(input_ids, attention_mask=attention_masks)\n",
        "    logits = outputs.logits\n",
        "\n",
        "probabilities = nn.functional.softmax(logits, dim=1)\n",
        "\n",
        "predicted_label = torch.argmax(probabilities, dim=1).tolist()\n",
        "\n",
        "predicted_probability = probabilities[:, 1].tolist()\n",
        "for i in range(4):\n",
        "  print(f\"Sentence {i+1}: {sentences[i]}\")\n",
        "print(f\"\\n\\nPredicted Labels:\\t{predicted_label}\\n\\nPredicted Probability:\\t{predicted_probability}\")\n",
        "def find(number):\n",
        "  for key, value in datalabels.items():\n",
        "    if value == number:\n",
        "        return key\n",
        "print(f\"\\nJob 9 = {find(9)}\\nJob 24 = {find(24)}\\nJob 3 = {find(3)}\\nJob 0 = {find(0)}\")"
      ],
      "metadata": {
        "colab": {
          "base_uri": "https://localhost:8080/"
        },
        "id": "C3yRDSxblvYx",
        "outputId": "ab588c21-30ce-42fa-f0ff-467f0911ccb1"
      },
      "execution_count": null,
      "outputs": [
        {
          "output_type": "stream",
          "name": "stdout",
          "text": [
            "Sentence 1: [CLS] matplotlib java mumbai Chennai Services TECHNOLOGY work many years exprience [SEP]\n",
            "Sentence 2: [CLS] professional webdriver [SEP]\n",
            "Sentence 3: [CLS] C R skilled i want to be professional artist [SEP]\n",
            "Sentence 4: [CLS] C R matplotlib python highly skilled i want to be professional artist [SEP]\n",
            "\n",
            "\n",
            "Predicted Labels:\t[9, 24, 3, 0]\n",
            "\n",
            "Predicted Probability:\t[0.00360056827776134, 0.054778166115283966, 0.01048512663692236, 0.0049043879844248295]\n",
            "\n",
            "Job 9 = Java Developer\n",
            "Job 24 = Testing\n",
            "Job 3 = Arts\n",
            "Job 0 = Data Science\n"
          ]
        }
      ]
    },
    {
      "cell_type": "markdown",
      "source": [
        "prediction with DistilBERT"
      ],
      "metadata": {
        "id": "ub1K6CR9TJ5I"
      }
    },
    {
      "cell_type": "code",
      "source": [
        "sentences =test_data['cleaned text'].values[:10].tolist()\n",
        "sentences = [\"[CLS] \" + sentence + \" [SEP]\" for sentence in sentences]\n",
        "model.eval()\n",
        "tokenizer = DistilBertTokenizer.from_pretrained('distilbert-base-uncased')\n",
        "\n",
        "def predict(text):\n",
        "    # Tokenize the input text\n",
        "    inputs = tokenizer(text, padding=True, truncation=True, return_tensors=\"pt\")\n",
        "\n",
        "    # Perform inference\n",
        "    outputs = model(**inputs)\n",
        "\n",
        "    # Get predicted labels\n",
        "    predicted_class = torch.argmax(outputs.logits, dim=1).item()\n",
        "\n",
        "    return predicted_class\n",
        "predicted=[]\n",
        "# Example usage\n",
        "input_text = test_data['cleaned text'].values[:20].tolist()\n",
        "for i in range(len(input_text)):\n",
        "  predicted_label = predict(input_text[i])\n",
        "  predicted.append(predicted_label)\n",
        "\n",
        "def find(number):\n",
        "  for key, value in datalabels.items():\n",
        "    if value == number:\n",
        "        return key\n",
        "print(f\"predicted labels:\\t{predicted}\\nActual Labels:\\t\\t{test_data['labels'].head(20).tolist()}\")"
      ],
      "metadata": {
        "colab": {
          "base_uri": "https://localhost:8080/"
        },
        "id": "M4i7JM9kTE0j",
        "outputId": "5ca9ede6-1184-4d08-f88a-50a968d08749"
      },
      "execution_count": null,
      "outputs": [
        {
          "output_type": "stream",
          "name": "stdout",
          "text": [
            "predicted labels:\t[5, 9, 12, 2, 24, 2, 15, 3, 17, 14, 2, 1, 3, 17, 19, 21, 22, 15, 20, 17]\n",
            "Actual Labels:\t\t[5, 9, 12, 2, 24, 2, 15, 3, 17, 14, 2, 1, 3, 17, 19, 21, 22, 15, 20, 17]\n"
          ]
        }
      ]
    },
    {
      "cell_type": "code",
      "source": [
        "pred=[]\n",
        "input_text=[\"matplotlib java mumbai Chennai Services TECHNOLOGY work many years exprience\",\"professional webdriver\",\"C R skilled i want to be professional artist\",\"C R matplotlib python highly skilled i want to be professional artist\"]\n",
        "for i in range(len(input_text)):\n",
        "  predicted_label = predict(input_text[i])\n",
        "  pred.append(predicted_label)\n",
        "\n",
        "def find(number):\n",
        "  for key, value in datalabels.items():\n",
        "    if value == number:\n",
        "        return key\n",
        "print(f\"predicted labels:\\t{pred}\")\n",
        "print(f\"\\nJob 9 = {find(9)}\\nJob 5 = {find(5)}\\nJob 3 = {find(3)}\\nJob 15 = {find(15)}\")"
      ],
      "metadata": {
        "colab": {
          "base_uri": "https://localhost:8080/"
        },
        "id": "PY2mO5maV3Ep",
        "outputId": "8c2ceb5c-36eb-41d8-acb9-9e6c9f9216f4"
      },
      "execution_count": null,
      "outputs": [
        {
          "output_type": "stream",
          "name": "stdout",
          "text": [
            "predicted labels:\t[9, 5, 3, 15]\n",
            "\n",
            "Job 9 = Java Developer\n",
            "Job 5 = Mechanical Engineer\n",
            "Job 3 = Arts\n",
            "Job 15 = Python Developer\n"
          ]
        }
      ]
    }
  ],
  "metadata": {
    "accelerator": "GPU",
    "colab": {
      "provenance": [],
      "machine_shape": "hm",
      "gpuType": "A100",
      "collapsed_sections": [
        "wyqtJvgUPjGK"
      ]
    },
    "kernelspec": {
      "display_name": "Python 3",
      "name": "python3"
    },
    "language_info": {
      "name": "python"
    }
  },
  "nbformat": 4,
  "nbformat_minor": 0
}